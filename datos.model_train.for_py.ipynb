{
 "cells": [
  {
   "cell_type": "markdown",
   "metadata": {},
   "source": [
    "# Model Training"
   ]
  },
  {
   "cell_type": "code",
   "execution_count": 1,
   "metadata": {},
   "outputs": [],
   "source": [
    "import pandas as pd\n",
    "import numpy as np\n",
    "import matplotlib.pyplot as plt\n",
    "import glob\n",
    "import tifffile as tiff"
   ]
  },
  {
   "cell_type": "markdown",
   "metadata": {},
   "source": [
    "## Load training and label"
   ]
  },
  {
   "cell_type": "code",
   "execution_count": 2,
   "metadata": {},
   "outputs": [],
   "source": [
    "# DATOS_train\n",
    "datos_train = pd.read_csv(\"data/DATOS_train.csv\")"
   ]
  },
  {
   "cell_type": "code",
   "execution_count": 3,
   "metadata": {},
   "outputs": [],
   "source": [
    "path_feats = \"data/train_features/content/train_features/\"\n",
    "path_labels = \"data/train_labels/content/train_labels/\""
   ]
  },
  {
   "cell_type": "code",
   "execution_count": 4,
   "metadata": {},
   "outputs": [],
   "source": [
    "feats = []\n",
    "labels = []\n",
    "for n in range(len(datos_train)):\n",
    "    path_feat = datos_train.iloc[n].feature_image\n",
    "    path_label = datos_train.iloc[n].label_image\n",
    "    feat = tiff.imread(path_feats + path_feat)\n",
    "    label = tiff.imread(path_labels + path_label)\n",
    "    \n",
    "    feats.append(feat)\n",
    "    labels.append(label)\n",
    "    \n",
    "feats = np.array(feats)\n",
    "labels = np.array(labels)"
   ]
  },
  {
   "cell_type": "markdown",
   "metadata": {},
   "source": [
    "## Prepocess Features"
   ]
  },
  {
   "cell_type": "code",
   "execution_count": 14,
   "metadata": {},
   "outputs": [],
   "source": [
    "# we remove outliers\n",
    "feats_final = []\n",
    "labels_final0 = []\n",
    "\n",
    "for n in range(len(datos_train)):\n",
    "    path_feat = datos_train.iloc[n].feature_image\n",
    "    path_label = datos_train.iloc[n].label_image\n",
    "    \n",
    "    feat = tiff.imread(path_feats + path_feat)\n",
    "    label = tiff.imread(path_labels + path_label)\n",
    "    \n",
    "    if feat.min() >= -1:\n",
    "        feats_final.append(feat)\n",
    "        labels_final0.append(label)\n",
    "    \n",
    "feats_final = np.array(feats_final)\n",
    "labels_final0 = np.array(labels_final0)"
   ]
  },
  {
   "cell_type": "code",
   "execution_count": 15,
   "metadata": {},
   "outputs": [
    {
     "data": {
      "text/plain": [
       "((5221, 128, 128, 10), (5221, 128, 128))"
      ]
     },
     "execution_count": 15,
     "metadata": {},
     "output_type": "execute_result"
    }
   ],
   "source": [
    "feats_final.shape, labels_final0.shape"
   ]
  },
  {
   "cell_type": "markdown",
   "metadata": {},
   "source": [
    "## Preprocess label (separate per class)\n",
    "Optional. We split each prediction into a 128 X 128 X 8 tensor. Each of the 8 layers correspond to classes 0, 1, 2, 4, 5, 6, 7, 15."
   ]
  },
  {
   "cell_type": "code",
   "execution_count": 21,
   "metadata": {},
   "outputs": [],
   "source": [
    "def split_array(sample_label):\n",
    "    new_array = []\n",
    "\n",
    "    for i in [0, 1, 2, 4, 5, 6, 7, 15]:\n",
    "        layer = sample_label==i\n",
    "        layer = layer.astype(int)\n",
    "        new_array.append(layer)\n",
    "    new_array = np.array(new_array)\n",
    "    new_array = np.swapaxes(new_array, 0, 2)\n",
    "    new_array = np.rot90(new_array, k=-1)\n",
    "    new_array = np.fliplr(new_array)\n",
    "    \n",
    "    \n",
    "    return new_array"
   ]
  },
  {
   "cell_type": "code",
   "execution_count": 23,
   "metadata": {},
   "outputs": [],
   "source": [
    "labels_final = np.array([split_array(i) for i in labels_final0])"
   ]
  },
  {
   "cell_type": "code",
   "execution_count": 43,
   "metadata": {},
   "outputs": [],
   "source": [
    "## Compress labels\n",
    "\n",
    "def compress_label(matrix):\n",
    "    classes = [0, 1, 2, 4, 5, 6, 7, 15]\n",
    "\n",
    "    new_array = []\n",
    "    for i in range(8):\n",
    "        layer = matrix[:, :, i]\n",
    "        layer = layer * classes[i]\n",
    "        new_array.append(layer)\n",
    "    \n",
    "    new_array = np.array(new_array)\n",
    "    new_array = np.round(new_array)\n",
    "    new_array = np.swapaxes(new_array, 0, 2)\n",
    "    new_array = np.max(new_array, axis=2)\n",
    "    new_array = np.rot90(new_array, k=-1)\n",
    "    new_array = np.fliplr(new_array)\n",
    "    \n",
    "    return new_array"
   ]
  },
  {
   "cell_type": "markdown",
   "metadata": {},
   "source": [
    "# Model Definitions"
   ]
  },
  {
   "cell_type": "code",
   "execution_count": 29,
   "metadata": {},
   "outputs": [],
   "source": [
    "# example of defining a 70x70 patchgan discriminator model\n",
    "from tensorflow.keras.optimizers import Adam\n",
    "from tensorflow.keras.initializers import RandomNormal\n",
    "from tensorflow.keras.models import Model\n",
    "from tensorflow.keras.layers import Input\n",
    "from tensorflow.keras.layers import Conv2D\n",
    "from tensorflow.keras.layers import LeakyReLU\n",
    "from tensorflow.keras.layers import Activation\n",
    "from tensorflow.keras.layers import Concatenate\n",
    "from tensorflow.keras.layers import BatchNormalization\n",
    "from tensorflow.keras.layers import Conv2DTranspose\n",
    "from tensorflow.keras.layers import Dropout\n",
    "\n",
    "from PIL import Image"
   ]
  },
  {
   "cell_type": "markdown",
   "metadata": {},
   "source": [
    "### Encoder and Decoder Definition"
   ]
  },
  {
   "cell_type": "code",
   "execution_count": 30,
   "metadata": {},
   "outputs": [],
   "source": [
    "# define an encoder block\n",
    "def define_encoder_block(layer_in, n_filters, batchnorm=True):\n",
    "    # weight initialization\n",
    "    init = RandomNormal(stddev=0.02)\n",
    "    # add downsampling layer\n",
    "    g = Conv2D(n_filters, (4,4), strides=(2,2), padding='same', kernel_initializer=init)(layer_in)\n",
    "    # conditionally add batch normalization\n",
    "    if batchnorm:\n",
    "        g = BatchNormalization()(g, training=True)\n",
    "    # leaky relu activation\n",
    "    g = LeakyReLU(alpha=0.2)(g)\n",
    "    return g\n",
    " \n",
    "# define a decoder block\n",
    "def decoder_block(layer_in, skip_in, n_filters, dropout=True):\n",
    "    # weight initialization\n",
    "    init = RandomNormal(stddev=0.02)\n",
    "    # add upsampling layer\n",
    "    g = Conv2DTranspose(n_filters, (4,4), strides=(2,2), padding='same', kernel_initializer=init)(layer_in)\n",
    "    # add batch normalization\n",
    "    g = BatchNormalization()(g, training=True)\n",
    "    # conditionally add dropout\n",
    "    if dropout:\n",
    "        g = Dropout(0.5)(g, training=True)\n",
    "    # merge with skip connection\n",
    "    g = Concatenate()([g, skip_in])\n",
    "    # relu activation\n",
    "    g = Activation('relu')(g)\n",
    "    return g"
   ]
  },
  {
   "cell_type": "code",
   "execution_count": 31,
   "metadata": {},
   "outputs": [],
   "source": [
    "# define the standalone generator model\n",
    "def define_generator(image_shape=(128,128,10)):\n",
    "    # weight initialization\n",
    "    init = RandomNormal(stddev=0.02)\n",
    "    # image input\n",
    "    in_image = Input(shape=image_shape)\n",
    "    # encoder model: C64-C128-C256\n",
    "    e1 = define_encoder_block(in_image, 64, batchnorm=False)\n",
    "    e2 = define_encoder_block(e1, 128)\n",
    "    e3 = define_encoder_block(e2, 256)\n",
    "    # bottleneck, no batch norm and relu\n",
    "    b = Conv2D(512, (4,4), strides=(2,2), padding='same', kernel_initializer=init)(e3)\n",
    "    b = Activation('relu')(b)\n",
    "    # decoder model: CD512-CD1024-CD1024-C1024-C1024-C512-C256-C128\n",
    "    d1 = decoder_block(b, e3, 256, dropout=False)\n",
    "    d2 = decoder_block(d1, e2, 128, dropout=False)\n",
    "    d3 = decoder_block(d2, e1, 64, dropout=False)\n",
    "    # output\n",
    "    g = Conv2DTranspose(8, (4,4), strides=(2,2), padding='same', kernel_initializer=init)(d3)\n",
    "    out_image = Activation('sigmoid')(g)\n",
    "    # define model\n",
    "    model = Model(in_image, out_image)\n",
    "    return model"
   ]
  },
  {
   "cell_type": "markdown",
   "metadata": {},
   "source": [
    "### Define Sample Generation"
   ]
  },
  {
   "cell_type": "code",
   "execution_count": 32,
   "metadata": {},
   "outputs": [],
   "source": [
    "# select a batch of random samples, returns images and target\n",
    "def generate_real_samples(dataset, n_samples):\n",
    "    # unpack dataset\n",
    "    trainA, trainB = dataset\n",
    "    # choose random instances\n",
    "    ix = np.random.randint(0, trainA.shape[0], n_samples)\n",
    "    # retrieve selected images\n",
    "    X1, X2 = trainA[ix], trainB[ix]\n",
    "    \n",
    "    return [X1, X2]"
   ]
  },
  {
   "cell_type": "markdown",
   "metadata": {},
   "source": [
    "### Date for Naming"
   ]
  },
  {
   "cell_type": "code",
   "execution_count": 33,
   "metadata": {},
   "outputs": [],
   "source": [
    "from datetime import date\n",
    "today = str(date.today().year)+'_'+str(date.today().month)+'_'+str(date.today().day)"
   ]
  },
  {
   "cell_type": "markdown",
   "metadata": {},
   "source": [
    "### Standard U-Net"
   ]
  },
  {
   "cell_type": "code",
   "execution_count": 34,
   "metadata": {
    "scrolled": true
   },
   "outputs": [
    {
     "name": "stderr",
     "output_type": "stream",
     "text": [
      "WARNING: Logging before flag parsing goes to stderr.\n",
      "W1116 18:05:18.114265 140299887630080 deprecation.py:506] From /home/ubuntu/anaconda3/envs/tensorflow_p36/lib/python3.6/site-packages/tensorflow/python/keras/initializers.py:143: calling RandomNormal.__init__ (from tensorflow.python.ops.init_ops) with dtype is deprecated and will be removed in a future version.\n",
      "Instructions for updating:\n",
      "Call initializer instance with the dtype argument instead of passing it to the constructor\n",
      "W1116 18:05:18.591740 140299887630080 deprecation.py:323] From /home/ubuntu/anaconda3/envs/tensorflow_p36/lib/python3.6/site-packages/tensorflow/python/ops/nn_impl.py:180: add_dispatch_support.<locals>.wrapper (from tensorflow.python.ops.array_ops) is deprecated and will be removed in a future version.\n",
      "Instructions for updating:\n",
      "Use tf.where in 2.0, which has the same broadcast rule as np.where\n"
     ]
    },
    {
     "name": "stdout",
     "output_type": "stream",
     "text": [
      "Model: \"model\"\n",
      "__________________________________________________________________________________________________\n",
      "Layer (type)                    Output Shape         Param #     Connected to                     \n",
      "==================================================================================================\n",
      "input_1 (InputLayer)            [(None, 128, 128, 10 0                                            \n",
      "__________________________________________________________________________________________________\n",
      "conv2d (Conv2D)                 (None, 64, 64, 64)   10304       input_1[0][0]                    \n",
      "__________________________________________________________________________________________________\n",
      "leaky_re_lu (LeakyReLU)         (None, 64, 64, 64)   0           conv2d[0][0]                     \n",
      "__________________________________________________________________________________________________\n",
      "conv2d_1 (Conv2D)               (None, 32, 32, 128)  131200      leaky_re_lu[0][0]                \n",
      "__________________________________________________________________________________________________\n",
      "batch_normalization (BatchNorma (None, 32, 32, 128)  512         conv2d_1[0][0]                   \n",
      "__________________________________________________________________________________________________\n",
      "leaky_re_lu_1 (LeakyReLU)       (None, 32, 32, 128)  0           batch_normalization[0][0]        \n",
      "__________________________________________________________________________________________________\n",
      "conv2d_2 (Conv2D)               (None, 16, 16, 256)  524544      leaky_re_lu_1[0][0]              \n",
      "__________________________________________________________________________________________________\n",
      "batch_normalization_1 (BatchNor (None, 16, 16, 256)  1024        conv2d_2[0][0]                   \n",
      "__________________________________________________________________________________________________\n",
      "leaky_re_lu_2 (LeakyReLU)       (None, 16, 16, 256)  0           batch_normalization_1[0][0]      \n",
      "__________________________________________________________________________________________________\n",
      "conv2d_3 (Conv2D)               (None, 8, 8, 512)    2097664     leaky_re_lu_2[0][0]              \n",
      "__________________________________________________________________________________________________\n",
      "activation (Activation)         (None, 8, 8, 512)    0           conv2d_3[0][0]                   \n",
      "__________________________________________________________________________________________________\n",
      "conv2d_transpose (Conv2DTranspo (None, 16, 16, 256)  2097408     activation[0][0]                 \n",
      "__________________________________________________________________________________________________\n",
      "batch_normalization_2 (BatchNor (None, 16, 16, 256)  1024        conv2d_transpose[0][0]           \n",
      "__________________________________________________________________________________________________\n",
      "concatenate (Concatenate)       (None, 16, 16, 512)  0           batch_normalization_2[0][0]      \n",
      "                                                                 leaky_re_lu_2[0][0]              \n",
      "__________________________________________________________________________________________________\n",
      "activation_1 (Activation)       (None, 16, 16, 512)  0           concatenate[0][0]                \n",
      "__________________________________________________________________________________________________\n",
      "conv2d_transpose_1 (Conv2DTrans (None, 32, 32, 128)  1048704     activation_1[0][0]               \n",
      "__________________________________________________________________________________________________\n",
      "batch_normalization_3 (BatchNor (None, 32, 32, 128)  512         conv2d_transpose_1[0][0]         \n",
      "__________________________________________________________________________________________________\n",
      "concatenate_1 (Concatenate)     (None, 32, 32, 256)  0           batch_normalization_3[0][0]      \n",
      "                                                                 leaky_re_lu_1[0][0]              \n",
      "__________________________________________________________________________________________________\n",
      "activation_2 (Activation)       (None, 32, 32, 256)  0           concatenate_1[0][0]              \n",
      "__________________________________________________________________________________________________\n",
      "conv2d_transpose_2 (Conv2DTrans (None, 64, 64, 64)   262208      activation_2[0][0]               \n",
      "__________________________________________________________________________________________________\n",
      "batch_normalization_4 (BatchNor (None, 64, 64, 64)   256         conv2d_transpose_2[0][0]         \n",
      "__________________________________________________________________________________________________\n",
      "concatenate_2 (Concatenate)     (None, 64, 64, 128)  0           batch_normalization_4[0][0]      \n",
      "                                                                 leaky_re_lu[0][0]                \n",
      "__________________________________________________________________________________________________\n",
      "activation_3 (Activation)       (None, 64, 64, 128)  0           concatenate_2[0][0]              \n",
      "__________________________________________________________________________________________________\n",
      "conv2d_transpose_3 (Conv2DTrans (None, 128, 128, 8)  16392       activation_3[0][0]               \n",
      "__________________________________________________________________________________________________\n",
      "activation_4 (Activation)       (None, 128, 128, 8)  0           conv2d_transpose_3[0][0]         \n",
      "==================================================================================================\n",
      "Total params: 6,191,752\n",
      "Trainable params: 6,190,088\n",
      "Non-trainable params: 1,664\n",
      "__________________________________________________________________________________________________\n"
     ]
    }
   ],
   "source": [
    "# define image shape\n",
    "image_shape = (128,128,10)\n",
    "# create the model\n",
    "unet_model = define_generator(image_shape)\n",
    "\n",
    "opt = Adam(lr=0.0002, beta_1=0.5)\n",
    "unet_model.compile(loss='binary_crossentropy', optimizer=opt, loss_weights=[100])"
   ]
  },
  {
   "cell_type": "markdown",
   "metadata": {},
   "source": [
    "### U-Net with Adversarial Loss on Prediction Network"
   ]
  },
  {
   "cell_type": "markdown",
   "metadata": {},
   "source": [
    "### WGANs"
   ]
  },
  {
   "cell_type": "markdown",
   "metadata": {},
   "source": [
    "## Training\n",
    "We measure:\n",
    "<br>1) Average of intersection over Union for each of the classes\n",
    "<br>2) Pixel-by-pixel accuracy"
   ]
  },
  {
   "cell_type": "code",
   "execution_count": 35,
   "metadata": {},
   "outputs": [],
   "source": [
    "# k-fold cross validation function\n",
    "\n",
    "def get_train_valid(num_samples, k):\n",
    "    valid_inds = []\n",
    "    train_inds = []\n",
    "    \n",
    "    num_valid = num_samples // k\n",
    "    num_train = num_samples - num_valid\n",
    "    \n",
    "    for i in range(k):\n",
    "        valid_ind = np.arange(num_valid * i, num_valid * i + num_valid)\n",
    "        train_ind = np.array([i for i in np.arange(num_samples) if i not in valid_ind])\n",
    "        \n",
    "        valid_inds.append(valid_ind)\n",
    "        train_inds.append(train_ind)\n",
    "        \n",
    "    return valid_inds, train_inds\n",
    "#         print(valid_inds[0], valid_inds[-1])\n",
    "#         print(len(valid_inds))\n",
    "#         print(len(train_inds))"
   ]
  },
  {
   "cell_type": "markdown",
   "metadata": {},
   "source": [
    "### Standard U-net"
   ]
  },
  {
   "cell_type": "code",
   "execution_count": 36,
   "metadata": {},
   "outputs": [],
   "source": [
    "# train pix2pix models\n",
    "def train(g_model, dataset, n_epochs=1, n_batch=1):\n",
    "    # unpack dataset\n",
    "    trainA, trainB = dataset\n",
    "    # calculate the number of batches per training epoch\n",
    "    bat_per_epo = int(len(trainA) / n_batch)\n",
    "    # calculate the number of training iterations\n",
    "    n_steps = bat_per_epo * n_epochs\n",
    "    print(n_steps)\n",
    "    # manually enumerate epochs\n",
    "    for i in range(n_steps):\n",
    "        # select a batch of real samples\n",
    "        [X_realA, X_realB] = generate_real_samples(dataset, n_batch)\n",
    "        # update the generator\n",
    "        g_loss = g_model.train_on_batch(X_realA, X_realB)\n",
    "        # summarize performance\n",
    "        if i % 1000 == 0:\n",
    "            print('>%d, g[%.3f]' % (i+1, g_loss))"
   ]
  },
  {
   "cell_type": "code",
   "execution_count": 37,
   "metadata": {},
   "outputs": [
    {
     "data": {
      "text/plain": [
       "((5221, 128, 128, 10), (5221, 128, 128, 8))"
      ]
     },
     "execution_count": 37,
     "metadata": {},
     "output_type": "execute_result"
    }
   ],
   "source": [
    "train_feats = feats_final\n",
    "train_labels = labels_final"
   ]
  },
  {
   "cell_type": "code",
   "execution_count": 39,
   "metadata": {},
   "outputs": [],
   "source": [
    "# unet_model.load_weights(\"models/datos_unet_gen_sigmoid_2019_11_16_0.h5\")"
   ]
  },
  {
   "cell_type": "code",
   "execution_count": null,
   "metadata": {},
   "outputs": [
    {
     "name": "stdout",
     "output_type": "stream",
     "text": [
      "flipped horizontally\n",
      "5221\n",
      ">1, g[5.982]\n",
      ">1001, g[6.957]\n",
      ">2001, g[2.941]\n",
      ">3001, g[0.184]\n",
      ">4001, g[12.621]\n",
      ">5001, g[3.017]\n",
      "saved generator model in models/datos_unet_gen_sigmoid_2019_11_16_0.h5\n"
     ]
    },
    {
     "data": {
      "image/png": "[encoded data removed]",
      "text/plain": [
       "<Figure size 360x144 with 3 Axes>"
      ]
     },
     "metadata": {},
     "output_type": "display_data"
    },
    {
     "name": "stdout",
     "output_type": "stream",
     "text": [
      "7 7.0\n"
     ]
    },
    {
     "data": {
      "image/png": "[encoded data removed]",
      "text/plain": [
       "<Figure size 360x144 with 3 Axes>"
      ]
     },
     "metadata": {},
     "output_type": "display_data"
    },
    {
     "name": "stdout",
     "output_type": "stream",
     "text": [
      "7 7.0\n"
     ]
    },
    {
     "data": {
      "image/png": "[encoded data removed]",
      "text/plain": [
       "<Figure size 360x144 with 3 Axes>"
      ]
     },
     "metadata": {},
     "output_type": "display_data"
    },
    {
     "name": "stdout",
     "output_type": "stream",
     "text": [
      "7 7.0\n"
     ]
    },
    {
     "data": {
      "image/png": "[encoded data removed]",
      "text/plain": [
       "<Figure size 360x144 with 3 Axes>"
      ]
     },
     "metadata": {},
     "output_type": "display_data"
    },
    {
     "name": "stdout",
     "output_type": "stream",
     "text": [
      "4 4.0\n"
     ]
    },
    {
     "data": {
      "image/png": "[encoded data removed]",
      "text/plain": [
       "<Figure size 360x144 with 3 Axes>"
      ]
     },
     "metadata": {},
     "output_type": "display_data"
    },
    {
     "name": "stdout",
     "output_type": "stream",
     "text": [
      "7 4.0\n",
      "5221\n",
      ">1, g[4.288]\n",
      ">1001, g[9.988]\n",
      ">2001, g[5.007]\n",
      ">3001, g[0.386]\n"
     ]
    }
   ],
   "source": [
    "# get n random images from all images in the dataset\n",
    "    \n",
    "filename_g = f'models/datos_unet_gen_sigmoid_{today}'\n",
    "\n",
    "for i in range(10000):\n",
    "    \n",
    "    # data augmentation, flip vertically or horizontally\n",
    "    flip = np.random.choice([0, 1, 2, 3, 4])\n",
    "    if flip == 1: # horizontal flip\n",
    "        print('flipped horizontally')\n",
    "        \n",
    "        train_feats2 = np.array([np.fliplr(i) for i in train_feats])\n",
    "        train_labels2 = np.array([np.fliplr(i) for i in train_labels])\n",
    "        \n",
    "    elif flip == 2:\n",
    "        print('flipped vertically')\n",
    "        train_feats2 = np.array([np.flipud(i) for i in train_feats])\n",
    "        train_labels2 = np.array([np.flipud(i) for i in train_labels])\n",
    "        \n",
    "    elif flip == 3:\n",
    "        print('flipped vertically and horizontally')\n",
    "        train_feats2 = np.array([np.fliplr(i) for i in train_feats])\n",
    "        train_labels2 = np.array([np.fliplr(i) for i in train_labels])\n",
    "        \n",
    "        train_feats2 = np.array([np.flipud(i) for i in train_feats2])\n",
    "        train_labels2 = np.array([np.flipud(i) for i in train_labels2])\n",
    "        \n",
    "    elif flip == 4:\n",
    "        k = np.random.choice([1, 2, 3])\n",
    "        print(f'rotated {k*90} times')\n",
    "        \n",
    "        train_feats2 = np.array([np.rot90(i, k=k) for i in train_feats])\n",
    "        train_labels2 = np.array([np.rot90(i, k=k) for i in train_labels])\n",
    "        \n",
    "    else:\n",
    "        \"no change\"\n",
    "        train_feats2 = train_feats\n",
    "        train_labels2 = train_labels\n",
    "        \n",
    "    # concatentate dataset\n",
    "    dataset = [train_feats2, train_labels2]\n",
    "    \n",
    "\n",
    "    # train model\n",
    "    train(unet_model, dataset, n_epochs=1, n_batch=1)\n",
    "\n",
    "    if i % 20 == 0:\n",
    "        # save the generator model\n",
    "        unet_model.save(f\"{filename_g}_{i}.h5\")\n",
    "        print(f'saved generator model in {filename_g}_{i}.h5')"
   ]
  }
 ],
 "metadata": {
  "kernelspec": {
   "display_name": "Python 3",
   "language": "python",
   "name": "python3"
  },
  "language_info": {
   "codemirror_mode": {
    "name": "ipython",
    "version": 3
   },
   "file_extension": ".py",
   "mimetype": "text/x-python",
   "name": "python",
   "nbconvert_exporter": "python",
   "pygments_lexer": "ipython3",
   "version": "3.6.5"
  }
 },
 "nbformat": 4,
 "nbformat_minor": 2
}
