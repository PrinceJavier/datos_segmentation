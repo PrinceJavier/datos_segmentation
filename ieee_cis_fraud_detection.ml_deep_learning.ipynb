{
 "cells": [
  {
   "cell_type": "markdown",
   "metadata": {},
   "source": [
    "# ML and Deep Learning Models"
   ]
  },
  {
   "cell_type": "code",
   "execution_count": 236,
   "metadata": {},
   "outputs": [],
   "source": [
    "import pandas as pd\n",
    "import numpy as np\n",
    "import matplotlib.pyplot as plt\n",
    "import pickle"
   ]
  },
  {
   "cell_type": "code",
   "execution_count": 223,
   "metadata": {},
   "outputs": [],
   "source": [
    "# Sklearn pipeline\n",
    "from sklearn.pipeline import Pipeline\n",
    "from sklearn.preprocessing import StandardScaler, OneHotEncoder\n",
    "from sklearn.compose import ColumnTransformer\n",
    "from sklearn.decomposition import TruncatedSVD\n",
    "\n",
    "from sklearn.metrics import f1_score, precision_score, recall_score\n",
    "from sklearn.metrics import roc_curve, auc, roc_auc_score\n",
    "from sklearn.metrics import confusion_matrix\n",
    "\n",
    "import tensorflow as tf\n",
    "\n",
    "from keras.models import Sequential\n",
    "from keras.layers import Dense, Activation, Dropout\n",
    "from keras.wrappers.scikit_learn import KerasClassifier"
   ]
  },
  {
   "cell_type": "code",
   "execution_count": 2,
   "metadata": {},
   "outputs": [
    {
     "data": {
      "text/html": [
       "<div>\n",
       "<style scoped>\n",
       "    .dataframe tbody tr th:only-of-type {\n",
       "        vertical-align: middle;\n",
       "    }\n",
       "\n",
       "    .dataframe tbody tr th {\n",
       "        vertical-align: top;\n",
       "    }\n",
       "\n",
       "    .dataframe thead th {\n",
       "        text-align: right;\n",
       "    }\n",
       "</style>\n",
       "<table border=\"1\" class=\"dataframe\">\n",
       "  <thead>\n",
       "    <tr style=\"text-align: right;\">\n",
       "      <th></th>\n",
       "      <th>TransactionID</th>\n",
       "      <th>isFraud</th>\n",
       "      <th>D13</th>\n",
       "      <th>D14</th>\n",
       "      <th>D12</th>\n",
       "      <th>id_04</th>\n",
       "      <th>id_03</th>\n",
       "      <th>D6</th>\n",
       "      <th>D9</th>\n",
       "      <th>D8</th>\n",
       "      <th>...</th>\n",
       "      <th>id_28</th>\n",
       "      <th>id_38</th>\n",
       "      <th>id_35</th>\n",
       "      <th>id_37</th>\n",
       "      <th>id_15</th>\n",
       "      <th>id_36</th>\n",
       "      <th>card4</th>\n",
       "      <th>card6</th>\n",
       "      <th>ProductCD</th>\n",
       "      <th>id_12</th>\n",
       "    </tr>\n",
       "  </thead>\n",
       "  <tbody>\n",
       "    <tr>\n",
       "      <th>0</th>\n",
       "      <td>2987071.0</td>\n",
       "      <td>0.0</td>\n",
       "      <td>0.0</td>\n",
       "      <td>0.0</td>\n",
       "      <td>0.0</td>\n",
       "      <td>0.0</td>\n",
       "      <td>0.0</td>\n",
       "      <td>0.0</td>\n",
       "      <td>0.000000</td>\n",
       "      <td>0.000000</td>\n",
       "      <td>...</td>\n",
       "      <td>None</td>\n",
       "      <td>None</td>\n",
       "      <td>None</td>\n",
       "      <td>None</td>\n",
       "      <td>None</td>\n",
       "      <td>None</td>\n",
       "      <td>visa</td>\n",
       "      <td>debit</td>\n",
       "      <td>W</td>\n",
       "      <td>None</td>\n",
       "    </tr>\n",
       "    <tr>\n",
       "      <th>1</th>\n",
       "      <td>2988706.0</td>\n",
       "      <td>1.0</td>\n",
       "      <td>0.0</td>\n",
       "      <td>0.0</td>\n",
       "      <td>0.0</td>\n",
       "      <td>0.0</td>\n",
       "      <td>0.0</td>\n",
       "      <td>0.0</td>\n",
       "      <td>0.583333</td>\n",
       "      <td>5.583333</td>\n",
       "      <td>...</td>\n",
       "      <td>Found</td>\n",
       "      <td>T</td>\n",
       "      <td>T</td>\n",
       "      <td>T</td>\n",
       "      <td>Found</td>\n",
       "      <td>F</td>\n",
       "      <td>visa</td>\n",
       "      <td>credit</td>\n",
       "      <td>H</td>\n",
       "      <td>Found</td>\n",
       "    </tr>\n",
       "    <tr>\n",
       "      <th>2</th>\n",
       "      <td>2988937.0</td>\n",
       "      <td>0.0</td>\n",
       "      <td>0.0</td>\n",
       "      <td>0.0</td>\n",
       "      <td>0.0</td>\n",
       "      <td>0.0</td>\n",
       "      <td>0.0</td>\n",
       "      <td>0.0</td>\n",
       "      <td>0.000000</td>\n",
       "      <td>0.000000</td>\n",
       "      <td>...</td>\n",
       "      <td>None</td>\n",
       "      <td>None</td>\n",
       "      <td>None</td>\n",
       "      <td>None</td>\n",
       "      <td>None</td>\n",
       "      <td>None</td>\n",
       "      <td>mastercard</td>\n",
       "      <td>debit</td>\n",
       "      <td>W</td>\n",
       "      <td>None</td>\n",
       "    </tr>\n",
       "    <tr>\n",
       "      <th>3</th>\n",
       "      <td>2988966.0</td>\n",
       "      <td>1.0</td>\n",
       "      <td>0.0</td>\n",
       "      <td>0.0</td>\n",
       "      <td>0.0</td>\n",
       "      <td>0.0</td>\n",
       "      <td>0.0</td>\n",
       "      <td>0.0</td>\n",
       "      <td>0.000000</td>\n",
       "      <td>0.000000</td>\n",
       "      <td>...</td>\n",
       "      <td>None</td>\n",
       "      <td>None</td>\n",
       "      <td>None</td>\n",
       "      <td>None</td>\n",
       "      <td>None</td>\n",
       "      <td>None</td>\n",
       "      <td>visa</td>\n",
       "      <td>debit</td>\n",
       "      <td>W</td>\n",
       "      <td>None</td>\n",
       "    </tr>\n",
       "    <tr>\n",
       "      <th>4</th>\n",
       "      <td>2988970.0</td>\n",
       "      <td>0.0</td>\n",
       "      <td>0.0</td>\n",
       "      <td>0.0</td>\n",
       "      <td>0.0</td>\n",
       "      <td>0.0</td>\n",
       "      <td>0.0</td>\n",
       "      <td>0.0</td>\n",
       "      <td>0.000000</td>\n",
       "      <td>0.000000</td>\n",
       "      <td>...</td>\n",
       "      <td>None</td>\n",
       "      <td>None</td>\n",
       "      <td>None</td>\n",
       "      <td>None</td>\n",
       "      <td>None</td>\n",
       "      <td>None</td>\n",
       "      <td>visa</td>\n",
       "      <td>credit</td>\n",
       "      <td>W</td>\n",
       "      <td>None</td>\n",
       "    </tr>\n",
       "  </tbody>\n",
       "</table>\n",
       "<p>5 rows × 413 columns</p>\n",
       "</div>"
      ],
      "text/plain": [
       "   TransactionID  isFraud  D13  D14  D12  id_04  id_03   D6        D9  \\\n",
       "0      2987071.0      0.0  0.0  0.0  0.0    0.0    0.0  0.0  0.000000   \n",
       "1      2988706.0      1.0  0.0  0.0  0.0    0.0    0.0  0.0  0.583333   \n",
       "2      2988937.0      0.0  0.0  0.0  0.0    0.0    0.0  0.0  0.000000   \n",
       "3      2988966.0      1.0  0.0  0.0  0.0    0.0    0.0  0.0  0.000000   \n",
       "4      2988970.0      0.0  0.0  0.0  0.0    0.0    0.0  0.0  0.000000   \n",
       "\n",
       "         D8  ...  id_28  id_38  id_35  id_37  id_15  id_36       card4  \\\n",
       "0  0.000000  ...   None   None   None   None   None   None        visa   \n",
       "1  5.583333  ...  Found      T      T      T  Found      F        visa   \n",
       "2  0.000000  ...   None   None   None   None   None   None  mastercard   \n",
       "3  0.000000  ...   None   None   None   None   None   None        visa   \n",
       "4  0.000000  ...   None   None   None   None   None   None        visa   \n",
       "\n",
       "    card6  ProductCD  id_12  \n",
       "0   debit          W   None  \n",
       "1  credit          H  Found  \n",
       "2   debit          W   None  \n",
       "3   debit          W   None  \n",
       "4  credit          W   None  \n",
       "\n",
       "[5 rows x 413 columns]"
      ]
     },
     "execution_count": 2,
     "metadata": {},
     "output_type": "execute_result"
    }
   ],
   "source": [
    "df_train_sample = pd.read_csv('data/df_train_sample.csv')\n",
    "df_train_sample.head()\n"
   ]
  },
  {
   "cell_type": "code",
   "execution_count": 3,
   "metadata": {},
   "outputs": [],
   "source": [
    "X_train = df_train_sample.drop(['TransactionID', 'isFraud'], axis=1)\n",
    "y_train = df_train_sample.isFraud"
   ]
  },
  {
   "cell_type": "code",
   "execution_count": 8,
   "metadata": {},
   "outputs": [
    {
     "data": {
      "text/plain": [
       "(34409, 411)"
      ]
     },
     "execution_count": 8,
     "metadata": {},
     "output_type": "execute_result"
    }
   ],
   "source": [
    "X_train.shape"
   ]
  },
  {
   "cell_type": "code",
   "execution_count": 112,
   "metadata": {},
   "outputs": [
    {
     "data": {
      "text/plain": [
       "(506691, 411)"
      ]
     },
     "execution_count": 112,
     "metadata": {},
     "output_type": "execute_result"
    }
   ],
   "source": [
    "df_test = pd.read_csv('data/df_test.csv')\n",
    "X_test = df_test.drop(['TransactionID'], axis=1)\n",
    "\n",
    "X_test.shape"
   ]
  },
  {
   "cell_type": "code",
   "execution_count": 81,
   "metadata": {
    "scrolled": true
   },
   "outputs": [
    {
     "data": {
      "text/html": [
       "<div>\n",
       "<style scoped>\n",
       "    .dataframe tbody tr th:only-of-type {\n",
       "        vertical-align: middle;\n",
       "    }\n",
       "\n",
       "    .dataframe tbody tr th {\n",
       "        vertical-align: top;\n",
       "    }\n",
       "\n",
       "    .dataframe thead th {\n",
       "        text-align: right;\n",
       "    }\n",
       "</style>\n",
       "<table border=\"1\" class=\"dataframe\">\n",
       "  <thead>\n",
       "    <tr style=\"text-align: right;\">\n",
       "      <th></th>\n",
       "      <th>isFraud</th>\n",
       "      <th>D13</th>\n",
       "      <th>D14</th>\n",
       "      <th>D12</th>\n",
       "      <th>id_04</th>\n",
       "      <th>id_03</th>\n",
       "      <th>D6</th>\n",
       "      <th>D9</th>\n",
       "      <th>D8</th>\n",
       "      <th>id_09</th>\n",
       "      <th>...</th>\n",
       "      <th>id_28</th>\n",
       "      <th>id_38</th>\n",
       "      <th>id_35</th>\n",
       "      <th>id_37</th>\n",
       "      <th>id_15</th>\n",
       "      <th>id_36</th>\n",
       "      <th>card4</th>\n",
       "      <th>card6</th>\n",
       "      <th>ProductCD</th>\n",
       "      <th>id_12</th>\n",
       "    </tr>\n",
       "  </thead>\n",
       "  <tbody>\n",
       "    <tr>\n",
       "      <th>0</th>\n",
       "      <td>0.0</td>\n",
       "      <td>0.0</td>\n",
       "      <td>0.0</td>\n",
       "      <td>0.0</td>\n",
       "      <td>0.0</td>\n",
       "      <td>0.0</td>\n",
       "      <td>0.0</td>\n",
       "      <td>0.0</td>\n",
       "      <td>0.0</td>\n",
       "      <td>0.0</td>\n",
       "      <td>...</td>\n",
       "      <td>None</td>\n",
       "      <td>None</td>\n",
       "      <td>None</td>\n",
       "      <td>None</td>\n",
       "      <td>None</td>\n",
       "      <td>None</td>\n",
       "      <td>visa</td>\n",
       "      <td>debit</td>\n",
       "      <td>W</td>\n",
       "      <td>None</td>\n",
       "    </tr>\n",
       "    <tr>\n",
       "      <th>1</th>\n",
       "      <td>0.0</td>\n",
       "      <td>0.0</td>\n",
       "      <td>0.0</td>\n",
       "      <td>0.0</td>\n",
       "      <td>0.0</td>\n",
       "      <td>0.0</td>\n",
       "      <td>0.0</td>\n",
       "      <td>0.0</td>\n",
       "      <td>0.0</td>\n",
       "      <td>0.0</td>\n",
       "      <td>...</td>\n",
       "      <td>None</td>\n",
       "      <td>None</td>\n",
       "      <td>None</td>\n",
       "      <td>None</td>\n",
       "      <td>None</td>\n",
       "      <td>None</td>\n",
       "      <td>visa</td>\n",
       "      <td>debit</td>\n",
       "      <td>C</td>\n",
       "      <td>None</td>\n",
       "    </tr>\n",
       "    <tr>\n",
       "      <th>2</th>\n",
       "      <td>0.0</td>\n",
       "      <td>0.0</td>\n",
       "      <td>0.0</td>\n",
       "      <td>0.0</td>\n",
       "      <td>0.0</td>\n",
       "      <td>0.0</td>\n",
       "      <td>0.0</td>\n",
       "      <td>0.0</td>\n",
       "      <td>128.0</td>\n",
       "      <td>0.0</td>\n",
       "      <td>...</td>\n",
       "      <td>Found</td>\n",
       "      <td>T</td>\n",
       "      <td>T</td>\n",
       "      <td>T</td>\n",
       "      <td>Found</td>\n",
       "      <td>F</td>\n",
       "      <td>american express</td>\n",
       "      <td>credit</td>\n",
       "      <td>H</td>\n",
       "      <td>NotFound</td>\n",
       "    </tr>\n",
       "    <tr>\n",
       "      <th>3</th>\n",
       "      <td>0.0</td>\n",
       "      <td>0.0</td>\n",
       "      <td>0.0</td>\n",
       "      <td>163.0</td>\n",
       "      <td>0.0</td>\n",
       "      <td>0.0</td>\n",
       "      <td>163.0</td>\n",
       "      <td>0.0</td>\n",
       "      <td>0.0</td>\n",
       "      <td>0.0</td>\n",
       "      <td>...</td>\n",
       "      <td>None</td>\n",
       "      <td>None</td>\n",
       "      <td>None</td>\n",
       "      <td>None</td>\n",
       "      <td>None</td>\n",
       "      <td>None</td>\n",
       "      <td>visa</td>\n",
       "      <td>credit</td>\n",
       "      <td>C</td>\n",
       "      <td>None</td>\n",
       "    </tr>\n",
       "    <tr>\n",
       "      <th>4</th>\n",
       "      <td>0.0</td>\n",
       "      <td>0.0</td>\n",
       "      <td>0.0</td>\n",
       "      <td>0.0</td>\n",
       "      <td>0.0</td>\n",
       "      <td>0.0</td>\n",
       "      <td>0.0</td>\n",
       "      <td>0.0</td>\n",
       "      <td>0.0</td>\n",
       "      <td>0.0</td>\n",
       "      <td>...</td>\n",
       "      <td>None</td>\n",
       "      <td>None</td>\n",
       "      <td>None</td>\n",
       "      <td>None</td>\n",
       "      <td>None</td>\n",
       "      <td>None</td>\n",
       "      <td>mastercard</td>\n",
       "      <td>debit</td>\n",
       "      <td>W</td>\n",
       "      <td>None</td>\n",
       "    </tr>\n",
       "  </tbody>\n",
       "</table>\n",
       "<p>5 rows × 412 columns</p>\n",
       "</div>"
      ],
      "text/plain": [
       "   isFraud  D13  D14    D12  id_04  id_03     D6   D9     D8  id_09  ...  \\\n",
       "0      0.0  0.0  0.0    0.0    0.0    0.0    0.0  0.0    0.0    0.0  ...   \n",
       "1      0.0  0.0  0.0    0.0    0.0    0.0    0.0  0.0    0.0    0.0  ...   \n",
       "2      0.0  0.0  0.0    0.0    0.0    0.0    0.0  0.0  128.0    0.0  ...   \n",
       "3      0.0  0.0  0.0  163.0    0.0    0.0  163.0  0.0    0.0    0.0  ...   \n",
       "4      0.0  0.0  0.0    0.0    0.0    0.0    0.0  0.0    0.0    0.0  ...   \n",
       "\n",
       "   id_28  id_38  id_35  id_37  id_15  id_36             card4   card6  \\\n",
       "0   None   None   None   None   None   None              visa   debit   \n",
       "1   None   None   None   None   None   None              visa   debit   \n",
       "2  Found      T      T      T  Found      F  american express  credit   \n",
       "3   None   None   None   None   None   None              visa  credit   \n",
       "4   None   None   None   None   None   None        mastercard   debit   \n",
       "\n",
       "   ProductCD     id_12  \n",
       "0          W      None  \n",
       "1          C      None  \n",
       "2          H  NotFound  \n",
       "3          C      None  \n",
       "4          W      None  \n",
       "\n",
       "[5 rows x 412 columns]"
      ]
     },
     "execution_count": 81,
     "metadata": {},
     "output_type": "execute_result"
    }
   ],
   "source": [
    "df_valid = pd.read_csv('data/df_valid.csv')\n",
    "df_valid.head()"
   ]
  },
  {
   "cell_type": "code",
   "execution_count": 82,
   "metadata": {},
   "outputs": [
    {
     "data": {
      "text/plain": [
       "(118003, 412)"
      ]
     },
     "execution_count": 82,
     "metadata": {},
     "output_type": "execute_result"
    }
   ],
   "source": [
    "X_valid = df_valid.drop(['isFraud'], axis=1)\n",
    "y_valid = df_valid.isFraud\n",
    "y_true = y_valid\n",
    "\n",
    "X_valid.shape"
   ]
  },
  {
   "cell_type": "code",
   "execution_count": 85,
   "metadata": {},
   "outputs": [
    {
     "data": {
      "text/plain": [
       "0.9310656812782293"
      ]
     },
     "execution_count": 85,
     "metadata": {},
     "output_type": "execute_result"
    }
   ],
   "source": [
    "# PCC\n",
    "class_0 = df_valid.isFraud.value_counts()[0]\n",
    "class_1 = df_valid.isFraud.value_counts()[1]\n",
    "total = class_0 + class_1\n",
    "\n",
    "class_0**2 / total ** 2 + class_1 ** 2 / total ** 2"
   ]
  },
  {
   "cell_type": "code",
   "execution_count": 5,
   "metadata": {},
   "outputs": [],
   "source": [
    "categorical_features = ['id_33', 'id_30', 'id_34', 'DeviceInfo', 'id_16', \n",
    "       'P_emaildomain', 'R_emaildomain', 'id_31', 'DeviceType', \n",
    "       'id_29', 'id_28', 'id_38', 'id_35', 'id_37', 'id_15',\n",
    "      'id_36', 'card4', 'card6', 'ProductCD', 'id_12'] \n",
    "numeric_features = [c for c in df_train_sample.columns if c not in categorical_features and c not in ['TransactionID', 'isFraud']]\n"
   ]
  },
  {
   "cell_type": "code",
   "execution_count": 216,
   "metadata": {},
   "outputs": [],
   "source": [
    "# We create the preprocessing pipelines for both numeric and categorical data.\n",
    "numeric_transformer = Pipeline(steps=[\n",
    "    ('scaler', StandardScaler())])\n",
    "\n",
    "categorical_transformer = Pipeline(steps=[\n",
    "    ('onehot', OneHotEncoder(handle_unknown='ignore'))])\n",
    "\n",
    "pca = Pipeline(steps=[\n",
    "    ('pca', TruncatedSVD(n_components=200))])\n",
    "\n",
    "preprocessor = ColumnTransformer(\n",
    "    transformers=[\n",
    "        ('num', numeric_transformer, numeric_features),\n",
    "        ('cat', categorical_transformer, categorical_features)])"
   ]
  },
  {
   "cell_type": "code",
   "execution_count": 217,
   "metadata": {},
   "outputs": [],
   "source": [
    "# define transformer pipelines\n",
    "preprocess_no_pca = Pipeline(steps=[('preprocessor', preprocessor)])\n",
    "preprocess_pca = Pipeline(steps=[('preprocessor', preprocessor),\n",
    "                                ('pca', pca)])"
   ]
  },
  {
   "cell_type": "code",
   "execution_count": 218,
   "metadata": {},
   "outputs": [],
   "source": [
    "# check variance explained PCA\n",
    "X_train_pca = preprocess_pca.fit(X_train)"
   ]
  },
  {
   "cell_type": "code",
   "execution_count": 219,
   "metadata": {},
   "outputs": [
    {
     "data": {
      "text/plain": [
       "Text(0.5, 1.0, 'Proportion variance explained to number of components')"
      ]
     },
     "execution_count": 219,
     "metadata": {},
     "output_type": "execute_result"
    },
    {
     "data": {
      "image/png": "[encoded data removed]",
      "text/plain": [
       "<Figure size 432x288 with 1 Axes>"
      ]
     },
     "metadata": {},
     "output_type": "display_data"
    }
   ],
   "source": [
    "ratios = X_train_pca.steps[-1][-1][-1].explained_variance_ratio_\n",
    "ratios_cum = np.cumsum(ratios)\n",
    "plt.plot(ratios_cum)\n",
    "plt.xlabel('n_comp')\n",
    "plt.ylabel('prop variance explained')\n",
    "plt.tight_layout()\n",
    "plt.title('Proportion variance explained to number of components')"
   ]
  },
  {
   "cell_type": "code",
   "execution_count": 220,
   "metadata": {},
   "outputs": [
    {
     "data": {
      "text/plain": [
       "115"
      ]
     },
     "execution_count": 220,
     "metadata": {},
     "output_type": "execute_result"
    }
   ],
   "source": [
    "# variance explained 95%\n",
    "[i for i in range(len(ratios_cum)) if ratios_cum[i] > 0.95][0]"
   ]
  },
  {
   "cell_type": "code",
   "execution_count": 221,
   "metadata": {},
   "outputs": [],
   "source": [
    "pca = Pipeline(steps=[\n",
    "    ('pca', TruncatedSVD(n_components=115))])\n",
    "\n",
    "preprocess_pca = Pipeline(steps=[('preprocessor', preprocessor),\n",
    "                                ('pca', pca)])"
   ]
  },
  {
   "cell_type": "code",
   "execution_count": 222,
   "metadata": {},
   "outputs": [
    {
     "name": "stdout",
     "output_type": "stream",
     "text": [
      "(34409, 1394)\n",
      "(34409, 115)\n"
     ]
    }
   ],
   "source": [
    "# shape with and without PCA\n",
    "shape_no_pca = preprocess_no_pca.fit_transform(X_train).shape\n",
    "shape_w_pca = preprocess_pca.fit_transform(X_train).shape\n",
    "print(shape_no_pca)\n",
    "print(shape_w_pca)"
   ]
  },
  {
   "cell_type": "markdown",
   "metadata": {},
   "source": [
    "## GBT"
   ]
  },
  {
   "cell_type": "code",
   "execution_count": 224,
   "metadata": {},
   "outputs": [],
   "source": [
    "from sklearn.ensemble import GradientBoostingClassifier"
   ]
  },
  {
   "cell_type": "code",
   "execution_count": 231,
   "metadata": {},
   "outputs": [],
   "source": [
    "model_no_pca_gbt = GradientBoostingClassifier()\n",
    "model_pca_gbt = GradientBoostingClassifier()"
   ]
  },
  {
   "cell_type": "code",
   "execution_count": 234,
   "metadata": {},
   "outputs": [
    {
     "data": {
      "text/plain": [
       "GradientBoostingClassifier(criterion='friedman_mse', init=None,\n",
       "                           learning_rate=0.1, loss='deviance', max_depth=3,\n",
       "                           max_features=None, max_leaf_nodes=None,\n",
       "                           min_impurity_decrease=0.0, min_impurity_split=None,\n",
       "                           min_samples_leaf=1, min_samples_split=2,\n",
       "                           min_weight_fraction_leaf=0.0, n_estimators=100,\n",
       "                           n_iter_no_change=None, presort='auto',\n",
       "                           random_state=None, subsample=1.0, tol=0.0001,\n",
       "                           validation_fraction=0.1, verbose=0,\n",
       "                           warm_start=False)"
      ]
     },
     "execution_count": 234,
     "metadata": {},
     "output_type": "execute_result"
    }
   ],
   "source": [
    "model_no_pca_gbt.fit(preprocess_no_pca.fit_transform(X_train), y_train)"
   ]
  },
  {
   "cell_type": "code",
   "execution_count": 235,
   "metadata": {},
   "outputs": [
    {
     "data": {
      "text/plain": [
       "GradientBoostingClassifier(criterion='friedman_mse', init=None,\n",
       "                           learning_rate=0.1, loss='deviance', max_depth=3,\n",
       "                           max_features=None, max_leaf_nodes=None,\n",
       "                           min_impurity_decrease=0.0, min_impurity_split=None,\n",
       "                           min_samples_leaf=1, min_samples_split=2,\n",
       "                           min_weight_fraction_leaf=0.0, n_estimators=100,\n",
       "                           n_iter_no_change=None, presort='auto',\n",
       "                           random_state=None, subsample=1.0, tol=0.0001,\n",
       "                           validation_fraction=0.1, verbose=0,\n",
       "                           warm_start=False)"
      ]
     },
     "execution_count": 235,
     "metadata": {},
     "output_type": "execute_result"
    }
   ],
   "source": [
    "model_pca_gbt.fit(preprocess_pca.fit_transform(X_train), y_train)"
   ]
  },
  {
   "cell_type": "code",
   "execution_count": 237,
   "metadata": {},
   "outputs": [],
   "source": [
    "## save models\n",
    "filename = 'models/model_no_pca_gbt.sav'\n",
    "pickle.dump(model_no_pca_gbt, open(filename, 'wb'))\n",
    "\n",
    "filename = 'models/model_pca_gbt.sav'\n",
    "pickle.dump(model_pca_gbt, open(filename, 'wb'))"
   ]
  },
  {
   "cell_type": "markdown",
   "metadata": {},
   "source": [
    "## Validation"
   ]
  },
  {
   "cell_type": "markdown",
   "metadata": {},
   "source": [
    "### No PCA"
   ]
  },
  {
   "cell_type": "code",
   "execution_count": 379,
   "metadata": {},
   "outputs": [],
   "source": [
    "y_true = y_valid\n",
    "y_pred_proba = model_no_pca_gbt.predict_proba(preprocess_no_pca.transform(X_valid))\n",
    "y_pred_proba = pd.DataFrame(y_pred_proba).apply(lambda x: 1-x).loc[:, 0]"
   ]
  },
  {
   "cell_type": "code",
   "execution_count": 380,
   "metadata": {},
   "outputs": [
    {
     "data": {
      "text/plain": [
       "[<matplotlib.lines.Line2D at 0x7fd818087470>]"
      ]
     },
     "execution_count": 380,
     "metadata": {},
     "output_type": "execute_result"
    },
    {
     "data": {
      "image/png": "[encoded data removed]",
      "text/plain": [
       "<Figure size 432x288 with 1 Axes>"
      ]
     },
     "metadata": {},
     "output_type": "display_data"
    }
   ],
   "source": [
    "# get best threshold value that maximizes F1 score\n",
    "\n",
    "f1_scores = []\n",
    "thresholds = np.arange(0.1, 1., 0.05)\n",
    "\n",
    "for thresh in thresholds:\n",
    "    y_pred_temp = y_pred_proba.apply(lambda x: 1 if x > thresh else 0)\n",
    "    f1score = f1_score(y_true, y_pred_temp)\n",
    "    f1_scores.append(f1score)\n",
    "    \n",
    "plt.plot(thresholds, f1_scores)    \n",
    "    "
   ]
  },
  {
   "cell_type": "code",
   "execution_count": 381,
   "metadata": {},
   "outputs": [
    {
     "data": {
      "text/plain": [
       "0.8000000000000002"
      ]
     },
     "execution_count": 381,
     "metadata": {},
     "output_type": "execute_result"
    }
   ],
   "source": [
    "# best thresh\n",
    "ind = np.argsort(f1_scores)[-1]\n",
    "best_thresh = thresholds[ind]\n",
    "best_thresh"
   ]
  },
  {
   "cell_type": "code",
   "execution_count": 382,
   "metadata": {},
   "outputs": [],
   "source": [
    "# y_pred = y_pred_proba.apply(lambda x: 1 if x > best_thresh else 0)\n",
    "y_pred = y_pred_proba.apply(lambda x: 1 if x > 0.5 else 0)"
   ]
  },
  {
   "cell_type": "code",
   "execution_count": 383,
   "metadata": {},
   "outputs": [
    {
     "name": "stdout",
     "output_type": "stream",
     "text": [
      "Summary Stats\n",
      "Precision = 0.17233998120497024\n",
      "Recall = 0.7825983878615458\n",
      "F1 Score = 0.2824747561184323\n"
     ]
    }
   ],
   "source": [
    "precision = precision_score(y_true, y_pred)\n",
    "recall = recall_score(y_true, y_pred)\n",
    "f1Score = f1_score(y_true, y_pred)\n",
    "\n",
    "      \n",
    "print(\"Summary Stats\")\n",
    "print(\"Precision = %s\" % precision)\n",
    "print(\"Recall = %s\" % recall)\n",
    "print(\"F1 Score = %s\" % f1Score)"
   ]
  },
  {
   "cell_type": "code",
   "execution_count": 384,
   "metadata": {},
   "outputs": [],
   "source": [
    "def plot_confusion_matrix(y_true, y_pred, classes, title, Norm,\n",
    "                          cmap=plt.cm.Blues):\n",
    "    \"\"\"\n",
    "    This function prints and plots the confusion matrix.\n",
    "    Normalization can be applied by setting `normalize=True`.\n",
    "    \"\"\"\n",
    "\n",
    "    # Compute confusion matrix \n",
    "    cm = confusion_matrix(y_true, y_pred)\n",
    "    # Only use the labels that appear in the data\n",
    "    if Norm == True:\n",
    "        cm = cm.astype('float') / cm.sum(axis=1)[:, np.newaxis]\n",
    "\n",
    "    fig, ax = plt.subplots()\n",
    "    im = ax.imshow(cm, interpolation='nearest', cmap=cmap)\n",
    "    ax.figure.colorbar(im, ax=ax)\n",
    "    # We want to show all ticks...\n",
    "    ax.set(xticks=np.arange(cm.shape[1]),\n",
    "           yticks=np.arange(cm.shape[0]),\n",
    "           # ... and label them with the respective list entries\n",
    "           xticklabels=classes, yticklabels=classes,\n",
    "           title=title,\n",
    "           ylabel='True label',\n",
    "           xlabel='Predicted label')\n",
    "\n",
    "    # Rotate the tick labels and set their alignment.\n",
    "    plt.setp(ax.get_xticklabels(), rotation=45, ha=\"right\",\n",
    "             rotation_mode=\"anchor\")\n",
    "\n",
    "    # Loop over data dimensions and create text annotations.\n",
    "    fmt = '.2f'\n",
    "    thresh = cm.max() / 2.\n",
    "    for i in range(cm.shape[0]):\n",
    "        for j in range(cm.shape[1]):\n",
    "            ax.text(j, i, format(cm[i, j], fmt),\n",
    "                    ha=\"center\", va=\"center\",\n",
    "                    color=\"white\" if cm[i, j] > thresh else \"black\")\n",
    "    fig.tight_layout()\n",
    "    return ax"
   ]
  },
  {
   "cell_type": "code",
   "execution_count": 385,
   "metadata": {},
   "outputs": [
    {
     "data": {
      "text/plain": [
       "<matplotlib.axes._subplots.AxesSubplot at 0x7fd8180977f0>"
      ]
     },
     "execution_count": 385,
     "metadata": {},
     "output_type": "execute_result"
    },
    {
     "data": {
      "image/png": "[encoded data removed]",
      "text/plain": [
       "<Figure size 432x288 with 2 Axes>"
      ]
     },
     "metadata": {},
     "output_type": "display_data"
    }
   ],
   "source": [
    "np.set_printoptions(precision=2)\n",
    "class_names = ['not Fraud', 'Fraud']\n",
    "plot_confusion_matrix(y_true, y_pred, classes=class_names, Norm=False,\n",
    "                      title='Normalized confusion matrix')"
   ]
  },
  {
   "cell_type": "code",
   "execution_count": 386,
   "metadata": {},
   "outputs": [
    {
     "data": {
      "text/plain": [
       "<matplotlib.axes._subplots.AxesSubplot at 0x7fd817ffa630>"
      ]
     },
     "execution_count": 386,
     "metadata": {},
     "output_type": "execute_result"
    },
    {
     "data": {
      "image/png": "[encoded data removed]",
      "text/plain": [
       "<Figure size 432x288 with 2 Axes>"
      ]
     },
     "metadata": {},
     "output_type": "display_data"
    }
   ],
   "source": [
    "np.set_printoptions(precision=2)\n",
    "class_names = ['not Fraud', 'Fraud']\n",
    "plot_confusion_matrix(y_true, y_pred, classes=class_names, Norm=True,\n",
    "                      title='Normalized confusion matrix')"
   ]
  },
  {
   "cell_type": "code",
   "execution_count": 387,
   "metadata": {},
   "outputs": [],
   "source": [
    "fpr, tpr, _ = roc_curve(y_true, y_pred_proba)"
   ]
  },
  {
   "cell_type": "code",
   "execution_count": 388,
   "metadata": {},
   "outputs": [
    {
     "data": {
      "text/plain": [
       "[<matplotlib.lines.Line2D at 0x7fd8182c5320>]"
      ]
     },
     "execution_count": 388,
     "metadata": {},
     "output_type": "execute_result"
    },
    {
     "data": {
      "image/png": "[encoded data removed]",
      "text/plain": [
       "<Figure size 432x288 with 1 Axes>"
      ]
     },
     "metadata": {},
     "output_type": "display_data"
    }
   ],
   "source": [
    "plt.plot(fpr, tpr)"
   ]
  },
  {
   "cell_type": "code",
   "execution_count": 389,
   "metadata": {},
   "outputs": [
    {
     "data": {
      "text/plain": [
       "0.8983674685895865"
      ]
     },
     "execution_count": 389,
     "metadata": {},
     "output_type": "execute_result"
    }
   ],
   "source": [
    "auc(fpr, tpr)"
   ]
  },
  {
   "cell_type": "markdown",
   "metadata": {},
   "source": [
    "#### Test Prediction"
   ]
  },
  {
   "cell_type": "code",
   "execution_count": 425,
   "metadata": {},
   "outputs": [],
   "source": [
    "y_pred_proba = model_no_pca_gbt.predict(preprocess_no_pca.transform(X_test))\n",
    "y_pred_proba = pd.DataFrame(y_pred_proba).apply(lambda x: 1-x).loc[:, 0]"
   ]
  },
  {
   "cell_type": "code",
   "execution_count": 426,
   "metadata": {},
   "outputs": [],
   "source": [
    "df_preds = pd.DataFrame(df_test.TransactionID)\n",
    "df_preds = pd.concat([df_preds, y_pred_proba], axis=1)"
   ]
  },
  {
   "cell_type": "code",
   "execution_count": 427,
   "metadata": {},
   "outputs": [
    {
     "data": {
      "text/plain": [
       "(506691, 2)"
      ]
     },
     "execution_count": 427,
     "metadata": {},
     "output_type": "execute_result"
    }
   ],
   "source": [
    "df_preds.columns = ['TransactionID', 'isFraud']\n",
    "df_preds.TransactionID = df_preds.TransactionID.astype('int') \n",
    "df_preds.shape"
   ]
  },
  {
   "cell_type": "code",
   "execution_count": 428,
   "metadata": {},
   "outputs": [
    {
     "data": {
      "text/html": [
       "<div>\n",
       "<style scoped>\n",
       "    .dataframe tbody tr th:only-of-type {\n",
       "        vertical-align: middle;\n",
       "    }\n",
       "\n",
       "    .dataframe tbody tr th {\n",
       "        vertical-align: top;\n",
       "    }\n",
       "\n",
       "    .dataframe thead th {\n",
       "        text-align: right;\n",
       "    }\n",
       "</style>\n",
       "<table border=\"1\" class=\"dataframe\">\n",
       "  <thead>\n",
       "    <tr style=\"text-align: right;\">\n",
       "      <th></th>\n",
       "      <th>TransactionID</th>\n",
       "      <th>isFraud</th>\n",
       "    </tr>\n",
       "  </thead>\n",
       "  <tbody>\n",
       "    <tr>\n",
       "      <th>0</th>\n",
       "      <td>3664355</td>\n",
       "      <td>1.0</td>\n",
       "    </tr>\n",
       "    <tr>\n",
       "      <th>1</th>\n",
       "      <td>3664418</td>\n",
       "      <td>1.0</td>\n",
       "    </tr>\n",
       "    <tr>\n",
       "      <th>2</th>\n",
       "      <td>3664423</td>\n",
       "      <td>1.0</td>\n",
       "    </tr>\n",
       "    <tr>\n",
       "      <th>3</th>\n",
       "      <td>3664469</td>\n",
       "      <td>1.0</td>\n",
       "    </tr>\n",
       "    <tr>\n",
       "      <th>4</th>\n",
       "      <td>3665115</td>\n",
       "      <td>1.0</td>\n",
       "    </tr>\n",
       "  </tbody>\n",
       "</table>\n",
       "</div>"
      ],
      "text/plain": [
       "   TransactionID  isFraud\n",
       "0        3664355      1.0\n",
       "1        3664418      1.0\n",
       "2        3664423      1.0\n",
       "3        3664469      1.0\n",
       "4        3665115      1.0"
      ]
     },
     "execution_count": 428,
     "metadata": {},
     "output_type": "execute_result"
    }
   ],
   "source": [
    "df_preds.head()"
   ]
  },
  {
   "cell_type": "code",
   "execution_count": 429,
   "metadata": {},
   "outputs": [],
   "source": [
    "df_preds.to_csv('predicted_no_pca_gbt.csv', index=False)"
   ]
  },
  {
   "cell_type": "markdown",
   "metadata": {},
   "source": [
    "### With PCA"
   ]
  },
  {
   "cell_type": "code",
   "execution_count": 390,
   "metadata": {},
   "outputs": [],
   "source": [
    "y_true = y_valid\n",
    "y_pred_proba = model_pca_gbt.predict_proba(preprocess_pca.transform(X_valid))\n",
    "y_pred_proba = pd.DataFrame(y_pred_proba).apply(lambda x: 1-x).loc[:, 0]"
   ]
  },
  {
   "cell_type": "code",
   "execution_count": 391,
   "metadata": {},
   "outputs": [
    {
     "data": {
      "text/plain": [
       "[<matplotlib.lines.Line2D at 0x7fd81829b9b0>]"
      ]
     },
     "execution_count": 391,
     "metadata": {},
     "output_type": "execute_result"
    },
    {
     "data": {
      "image/png": "[encoded data removed]",
      "text/plain": [
       "<Figure size 432x288 with 1 Axes>"
      ]
     },
     "metadata": {},
     "output_type": "display_data"
    }
   ],
   "source": [
    "# get best threshold value that maximizes F1 score\n",
    "\n",
    "f1_scores = []\n",
    "thresholds = np.arange(0.1, 1., 0.05)\n",
    "\n",
    "for thresh in thresholds:\n",
    "    y_pred_temp = y_pred_proba.apply(lambda x: 1 if x > thresh else 0)\n",
    "    f1score = f1_score(y_true, y_pred_temp)\n",
    "    f1_scores.append(f1score)\n",
    "    \n",
    "plt.plot(thresholds, f1_scores)    \n",
    "    "
   ]
  },
  {
   "cell_type": "code",
   "execution_count": 392,
   "metadata": {},
   "outputs": [
    {
     "data": {
      "text/plain": [
       "0.8000000000000002"
      ]
     },
     "execution_count": 392,
     "metadata": {},
     "output_type": "execute_result"
    }
   ],
   "source": [
    "# best thresh\n",
    "ind = np.argsort(f1_scores)[-1]\n",
    "best_thresh = thresholds[ind]\n",
    "best_thresh"
   ]
  },
  {
   "cell_type": "code",
   "execution_count": 393,
   "metadata": {},
   "outputs": [],
   "source": [
    "# y_pred = y_pred_proba.apply(lambda x: 1 if x > best_thresh else 0)\n",
    "y_pred = y_pred_proba.apply(lambda x: 1 if x > 0.5 else 0)"
   ]
  },
  {
   "cell_type": "code",
   "execution_count": 394,
   "metadata": {},
   "outputs": [
    {
     "name": "stdout",
     "output_type": "stream",
     "text": [
      "Summary Stats\n",
      "Precision = 0.1316630024474219\n",
      "Recall = 0.7524893314366998\n",
      "F1 Score = 0.22411297440423653\n"
     ]
    }
   ],
   "source": [
    "precision = precision_score(y_true, y_pred)\n",
    "recall = recall_score(y_true, y_pred)\n",
    "f1Score = f1_score(y_true, y_pred)\n",
    "\n",
    "      \n",
    "print(\"Summary Stats\")\n",
    "print(\"Precision = %s\" % precision)\n",
    "print(\"Recall = %s\" % recall)\n",
    "print(\"F1 Score = %s\" % f1Score)"
   ]
  },
  {
   "cell_type": "code",
   "execution_count": 395,
   "metadata": {},
   "outputs": [
    {
     "data": {
      "text/plain": [
       "<matplotlib.axes._subplots.AxesSubplot at 0x7fd817ecf978>"
      ]
     },
     "execution_count": 395,
     "metadata": {},
     "output_type": "execute_result"
    },
    {
     "data": {
      "image/png": "[encoded data removed]",
      "text/plain": [
       "<Figure size 432x288 with 2 Axes>"
      ]
     },
     "metadata": {},
     "output_type": "display_data"
    }
   ],
   "source": [
    "np.set_printoptions(precision=2)\n",
    "class_names = ['not Fraud', 'Fraud']\n",
    "plot_confusion_matrix(y_true, y_pred, classes=class_names, Norm=False,\n",
    "                      title='Normalized confusion matrix')"
   ]
  },
  {
   "cell_type": "code",
   "execution_count": 396,
   "metadata": {},
   "outputs": [
    {
     "data": {
      "text/plain": [
       "<matplotlib.axes._subplots.AxesSubplot at 0x7fd817e65898>"
      ]
     },
     "execution_count": 396,
     "metadata": {},
     "output_type": "execute_result"
    },
    {
     "data": {
      "image/png": "[encoded data removed]",
      "text/plain": [
       "<Figure size 432x288 with 2 Axes>"
      ]
     },
     "metadata": {},
     "output_type": "display_data"
    }
   ],
   "source": [
    "np.set_printoptions(precision=2)\n",
    "class_names = ['not Fraud', 'Fraud']\n",
    "plot_confusion_matrix(y_true, y_pred, classes=class_names, Norm=True,\n",
    "                      title='Normalized confusion matrix')"
   ]
  },
  {
   "cell_type": "code",
   "execution_count": 397,
   "metadata": {},
   "outputs": [],
   "source": [
    "fpr, tpr, _ = roc_curve(y_true, y_pred_proba)"
   ]
  },
  {
   "cell_type": "code",
   "execution_count": 398,
   "metadata": {},
   "outputs": [
    {
     "data": {
      "text/plain": [
       "[<matplotlib.lines.Line2D at 0x7fd818135eb8>]"
      ]
     },
     "execution_count": 398,
     "metadata": {},
     "output_type": "execute_result"
    },
    {
     "data": {
      "image/png": "[encoded data removed]",
      "text/plain": [
       "<Figure size 432x288 with 1 Axes>"
      ]
     },
     "metadata": {},
     "output_type": "display_data"
    }
   ],
   "source": [
    "plt.plot(fpr, tpr)"
   ]
  },
  {
   "cell_type": "code",
   "execution_count": 399,
   "metadata": {
    "scrolled": true
   },
   "outputs": [
    {
     "data": {
      "text/plain": [
       "0.8653136557506064"
      ]
     },
     "execution_count": 399,
     "metadata": {},
     "output_type": "execute_result"
    }
   ],
   "source": [
    "auc(fpr, tpr)"
   ]
  },
  {
   "cell_type": "markdown",
   "metadata": {},
   "source": [
    "#### Test Prediction"
   ]
  },
  {
   "cell_type": "code",
   "execution_count": 420,
   "metadata": {},
   "outputs": [],
   "source": [
    "y_pred_proba = model_pca_gbt.predict(preprocess_pca.transform(X_test))\n",
    "y_pred_proba = pd.DataFrame(y_pred_proba).apply(lambda x: 1-x).loc[:, 0]"
   ]
  },
  {
   "cell_type": "code",
   "execution_count": 421,
   "metadata": {},
   "outputs": [],
   "source": [
    "df_preds = pd.DataFrame(df_test.TransactionID)\n",
    "df_preds = pd.concat([df_preds, y_pred_proba], axis=1)"
   ]
  },
  {
   "cell_type": "code",
   "execution_count": 422,
   "metadata": {},
   "outputs": [
    {
     "data": {
      "text/plain": [
       "(506691, 2)"
      ]
     },
     "execution_count": 422,
     "metadata": {},
     "output_type": "execute_result"
    }
   ],
   "source": [
    "df_preds.columns = ['TransactionID', 'isFraud']\n",
    "df_preds.TransactionID = df_preds.TransactionID.astype('int') \n",
    "df_preds.shape"
   ]
  },
  {
   "cell_type": "code",
   "execution_count": 423,
   "metadata": {},
   "outputs": [
    {
     "data": {
      "text/html": [
       "<div>\n",
       "<style scoped>\n",
       "    .dataframe tbody tr th:only-of-type {\n",
       "        vertical-align: middle;\n",
       "    }\n",
       "\n",
       "    .dataframe tbody tr th {\n",
       "        vertical-align: top;\n",
       "    }\n",
       "\n",
       "    .dataframe thead th {\n",
       "        text-align: right;\n",
       "    }\n",
       "</style>\n",
       "<table border=\"1\" class=\"dataframe\">\n",
       "  <thead>\n",
       "    <tr style=\"text-align: right;\">\n",
       "      <th></th>\n",
       "      <th>TransactionID</th>\n",
       "      <th>isFraud</th>\n",
       "    </tr>\n",
       "  </thead>\n",
       "  <tbody>\n",
       "    <tr>\n",
       "      <th>0</th>\n",
       "      <td>3664355</td>\n",
       "      <td>1.0</td>\n",
       "    </tr>\n",
       "    <tr>\n",
       "      <th>1</th>\n",
       "      <td>3664418</td>\n",
       "      <td>1.0</td>\n",
       "    </tr>\n",
       "    <tr>\n",
       "      <th>2</th>\n",
       "      <td>3664423</td>\n",
       "      <td>1.0</td>\n",
       "    </tr>\n",
       "    <tr>\n",
       "      <th>3</th>\n",
       "      <td>3664469</td>\n",
       "      <td>1.0</td>\n",
       "    </tr>\n",
       "    <tr>\n",
       "      <th>4</th>\n",
       "      <td>3665115</td>\n",
       "      <td>0.0</td>\n",
       "    </tr>\n",
       "  </tbody>\n",
       "</table>\n",
       "</div>"
      ],
      "text/plain": [
       "   TransactionID  isFraud\n",
       "0        3664355      1.0\n",
       "1        3664418      1.0\n",
       "2        3664423      1.0\n",
       "3        3664469      1.0\n",
       "4        3665115      0.0"
      ]
     },
     "execution_count": 423,
     "metadata": {},
     "output_type": "execute_result"
    }
   ],
   "source": [
    "df_preds.head()"
   ]
  },
  {
   "cell_type": "code",
   "execution_count": 424,
   "metadata": {},
   "outputs": [],
   "source": [
    "df_preds.to_csv('predicted_pca_gbt.csv', index=False)"
   ]
  },
  {
   "cell_type": "markdown",
   "metadata": {},
   "source": [
    "## Deep Learning"
   ]
  },
  {
   "cell_type": "code",
   "execution_count": 317,
   "metadata": {},
   "outputs": [],
   "source": [
    "input_dim_no_pca = shape_no_pca[1]\n",
    "input_dim_pca = shape_w_pca[1]"
   ]
  },
  {
   "cell_type": "code",
   "execution_count": 318,
   "metadata": {},
   "outputs": [],
   "source": [
    "# custom AUC ROC metric\n",
    "def auroc(y_true, y_pred):\n",
    "    return tf.py_func(roc_auc_score, (y_true, y_pred), tf.double)"
   ]
  },
  {
   "cell_type": "code",
   "execution_count": 319,
   "metadata": {},
   "outputs": [],
   "source": [
    "# Keras model definition\n",
    "\n",
    "def classifier(input_dim):\n",
    "    model = Sequential()\n",
    "    model.add(Dense(256, activation='relu', input_dim=input_dim))\n",
    "    model.add(Dropout(0.1))\n",
    "    model.add(Dense(256, activation='relu'))\n",
    "    model.add(Dropout(0.1))\n",
    "    model.add(Dense(2, activation='softmax'))\n",
    "    \n",
    "    # Build Model...\n",
    "    model.compile(loss='binary_crossentropy', optimizer='adam',metrics=[auroc])\n",
    "    \n",
    "    return model"
   ]
  },
  {
   "cell_type": "code",
   "execution_count": 323,
   "metadata": {},
   "outputs": [
    {
     "name": "stdout",
     "output_type": "stream",
     "text": [
      "_________________________________________________________________\n",
      "Layer (type)                 Output Shape              Param #   \n",
      "=================================================================\n",
      "dense_47 (Dense)             (None, 256)               357120    \n",
      "_________________________________________________________________\n",
      "dropout_31 (Dropout)         (None, 256)               0         \n",
      "_________________________________________________________________\n",
      "dense_48 (Dense)             (None, 256)               65792     \n",
      "_________________________________________________________________\n",
      "dropout_32 (Dropout)         (None, 256)               0         \n",
      "_________________________________________________________________\n",
      "dense_49 (Dense)             (None, 2)                 514       \n",
      "=================================================================\n",
      "Total params: 423,426\n",
      "Trainable params: 423,426\n",
      "Non-trainable params: 0\n",
      "_________________________________________________________________\n"
     ]
    }
   ],
   "source": [
    "clf = classifier(input_dim=input_dim_no_pca)\n",
    "clf.summary()"
   ]
  },
  {
   "cell_type": "code",
   "execution_count": 324,
   "metadata": {
    "scrolled": true
   },
   "outputs": [
    {
     "name": "stdout",
     "output_type": "stream",
     "text": [
      "Epoch 1/50\n",
      "34409/34409 [==============================] - 11s 321us/step - loss: 0.4814 - auroc: 0.8510\n",
      "Epoch 2/50\n",
      "34409/34409 [==============================] - 9s 270us/step - loss: 0.4319 - auroc: 0.8798\n",
      "Epoch 3/50\n",
      "34409/34409 [==============================] - 9s 271us/step - loss: 0.4085 - auroc: 0.8917\n",
      "Epoch 4/50\n",
      "34409/34409 [==============================] - 9s 272us/step - loss: 0.3922 - auroc: 0.9006\n",
      "Epoch 5/50\n",
      "34409/34409 [==============================] - 10s 297us/step - loss: 0.3732 - auroc: 0.9093\n",
      "Epoch 6/50\n",
      "34409/34409 [==============================] - 9s 270us/step - loss: 0.3592 - auroc: 0.9169\n",
      "Epoch 7/50\n",
      "34409/34409 [==============================] - 9s 272us/step - loss: 0.3440 - auroc: 0.9233\n",
      "Epoch 8/50\n",
      "34409/34409 [==============================] - 9s 271us/step - loss: 0.3290 - auroc: 0.9300\n",
      "Epoch 9/50\n",
      "34409/34409 [==============================] - 9s 273us/step - loss: 0.3153 - auroc: 0.9346\n",
      "Epoch 10/50\n",
      "34409/34409 [==============================] - 9s 271us/step - loss: 0.3022 - auroc: 0.9415\n",
      "Epoch 11/50\n",
      "34409/34409 [==============================] - 9s 270us/step - loss: 0.2933 - auroc: 0.9440\n",
      "Epoch 12/50\n",
      "34409/34409 [==============================] - 9s 271us/step - loss: 0.2847 - auroc: 0.9477\n",
      "Epoch 13/50\n",
      "34409/34409 [==============================] - 9s 270us/step - loss: 0.2734 - auroc: 0.9525\n",
      "Epoch 14/50\n",
      "34409/34409 [==============================] - 9s 271us/step - loss: 0.2627 - auroc: 0.9560\n",
      "Epoch 15/50\n",
      "34409/34409 [==============================] - 9s 270us/step - loss: 0.2555 - auroc: 0.9580\n",
      "Epoch 16/50\n",
      "34409/34409 [==============================] - 9s 271us/step - loss: 0.2484 - auroc: 0.9603\n",
      "Epoch 17/50\n",
      "34409/34409 [==============================] - 9s 271us/step - loss: 0.2399 - auroc: 0.9627\n",
      "Epoch 18/50\n",
      "34409/34409 [==============================] - 9s 269us/step - loss: 0.2327 - auroc: 0.9644\n",
      "Epoch 19/50\n",
      "34409/34409 [==============================] - 9s 270us/step - loss: 0.2321 - auroc: 0.9658\n",
      "Epoch 20/50\n",
      "34409/34409 [==============================] - 9s 270us/step - loss: 0.2210 - auroc: 0.9689\n",
      "Epoch 21/50\n",
      "34409/34409 [==============================] - 9s 270us/step - loss: 0.2180 - auroc: 0.9698\n",
      "Epoch 22/50\n",
      "34409/34409 [==============================] - 9s 272us/step - loss: 0.2154 - auroc: 0.9702\n",
      "Epoch 23/50\n",
      "34409/34409 [==============================] - 9s 272us/step - loss: 0.2073 - auroc: 0.9724\n",
      "Epoch 24/50\n",
      "34409/34409 [==============================] - 10s 298us/step - loss: 0.2037 - auroc: 0.9732\n",
      "Epoch 25/50\n",
      "34409/34409 [==============================] - 9s 271us/step - loss: 0.2011 - auroc: 0.9741\n",
      "Epoch 26/50\n",
      "34409/34409 [==============================] - 9s 271us/step - loss: 0.1957 - auroc: 0.9758\n",
      "Epoch 27/50\n",
      "34409/34409 [==============================] - 9s 273us/step - loss: 0.1907 - auroc: 0.9774\n",
      "Epoch 28/50\n",
      "34409/34409 [==============================] - 9s 270us/step - loss: 0.1855 - auroc: 0.9778\n",
      "Epoch 29/50\n",
      "34409/34409 [==============================] - 9s 271us/step - loss: 0.1819 - auroc: 0.9788\n",
      "Epoch 30/50\n",
      "34409/34409 [==============================] - 9s 270us/step - loss: 0.1796 - auroc: 0.9789\n",
      "Epoch 31/50\n",
      "34409/34409 [==============================] - 9s 271us/step - loss: 0.1782 - auroc: 0.9800\n",
      "Epoch 32/50\n",
      "34409/34409 [==============================] - 9s 270us/step - loss: 0.1822 - auroc: 0.9796\n",
      "Epoch 33/50\n",
      "34409/34409 [==============================] - 9s 271us/step - loss: 0.1734 - auroc: 0.9810\n",
      "Epoch 34/50\n",
      "34409/34409 [==============================] - 9s 273us/step - loss: 0.1725 - auroc: 0.9812\n",
      "Epoch 35/50\n",
      "34409/34409 [==============================] - 9s 270us/step - loss: 0.1679 - auroc: 0.9816\n",
      "Epoch 36/50\n",
      "34409/34409 [==============================] - 9s 273us/step - loss: 0.1621 - auroc: 0.9834\n",
      "Epoch 37/50\n",
      "34409/34409 [==============================] - 9s 271us/step - loss: 0.1673 - auroc: 0.9824\n",
      "Epoch 38/50\n",
      "34409/34409 [==============================] - 9s 269us/step - loss: 0.1576 - auroc: 0.9846\n",
      "Epoch 39/50\n",
      "34409/34409 [==============================] - 9s 271us/step - loss: 0.1555 - auroc: 0.9847\n",
      "Epoch 40/50\n",
      "34409/34409 [==============================] - 9s 271us/step - loss: 0.1597 - auroc: 0.9837\n",
      "Epoch 41/50\n",
      "34409/34409 [==============================] - 9s 271us/step - loss: 0.1530 - auroc: 0.9848\n",
      "Epoch 42/50\n",
      "34409/34409 [==============================] - 9s 270us/step - loss: 0.1527 - auroc: 0.9852\n",
      "Epoch 43/50\n",
      "34409/34409 [==============================] - 10s 299us/step - loss: 0.1457 - auroc: 0.9866\n",
      "Epoch 44/50\n",
      "34409/34409 [==============================] - 9s 270us/step - loss: 0.1448 - auroc: 0.9862\n",
      "Epoch 45/50\n",
      "34409/34409 [==============================] - 9s 273us/step - loss: 0.1458 - auroc: 0.9866\n",
      "Epoch 46/50\n",
      "34409/34409 [==============================] - 9s 272us/step - loss: 0.1419 - auroc: 0.9869\n",
      "Epoch 47/50\n",
      "34409/34409 [==============================] - 9s 272us/step - loss: 0.1475 - auroc: 0.9864\n",
      "Epoch 48/50\n",
      "34409/34409 [==============================] - 9s 271us/step - loss: 0.1376 - auroc: 0.9874\n",
      "Epoch 49/50\n",
      "34409/34409 [==============================] - 9s 271us/step - loss: 0.1429 - auroc: 0.9872\n",
      "Epoch 50/50\n",
      "34409/34409 [==============================] - 9s 270us/step - loss: 0.1328 - auroc: 0.9886\n"
     ]
    },
    {
     "data": {
      "text/plain": [
       "<keras.callbacks.History at 0x7fd5e6c582e8>"
      ]
     },
     "execution_count": 324,
     "metadata": {},
     "output_type": "execute_result"
    }
   ],
   "source": [
    "# no PCA pipeline\n",
    "model_no_pca = classifier(input_dim=input_dim_no_pca)\n",
    "model_no_pca.fit(preprocess_no_pca.fit_transform(X_train),\\\n",
    "                                           pd.get_dummies(y_train), epochs=50)"
   ]
  },
  {
   "cell_type": "code",
   "execution_count": 326,
   "metadata": {
    "scrolled": true
   },
   "outputs": [
    {
     "name": "stdout",
     "output_type": "stream",
     "text": [
      "Epoch 1/50\n",
      "34409/34409 [==============================] - 11s 317us/step - loss: 0.4919 - auroc: 0.8446\n",
      "Epoch 2/50\n",
      "34409/34409 [==============================] - 8s 230us/step - loss: 0.4427 - auroc: 0.8724\n",
      "Epoch 3/50\n",
      "34409/34409 [==============================] - 8s 234us/step - loss: 0.4206 - auroc: 0.8855\n",
      "Epoch 4/50\n",
      "34409/34409 [==============================] - 8s 233us/step - loss: 0.3999 - auroc: 0.8942\n",
      "Epoch 5/50\n",
      "34409/34409 [==============================] - 8s 234us/step - loss: 0.3841 - auroc: 0.9036\n",
      "Epoch 6/50\n",
      "34409/34409 [==============================] - 8s 234us/step - loss: 0.3677 - auroc: 0.9128\n",
      "Epoch 7/50\n",
      "34409/34409 [==============================] - 8s 233us/step - loss: 0.3521 - auroc: 0.9206\n",
      "Epoch 8/50\n",
      "34409/34409 [==============================] - 8s 229us/step - loss: 0.3406 - auroc: 0.9256\n",
      "Epoch 9/50\n",
      "34409/34409 [==============================] - 8s 235us/step - loss: 0.3238 - auroc: 0.9328\n",
      "Epoch 10/50\n",
      "34409/34409 [==============================] - 8s 232us/step - loss: 0.3096 - auroc: 0.9386\n",
      "Epoch 11/50\n",
      "34409/34409 [==============================] - 8s 233us/step - loss: 0.2965 - auroc: 0.9432\n",
      "Epoch 12/50\n",
      "34409/34409 [==============================] - 8s 235us/step - loss: 0.2857 - auroc: 0.9472\n",
      "Epoch 13/50\n",
      "34409/34409 [==============================] - 8s 232us/step - loss: 0.2770 - auroc: 0.9507\n",
      "Epoch 14/50\n",
      "34409/34409 [==============================] - 8s 237us/step - loss: 0.2676 - auroc: 0.9539\n",
      "Epoch 15/50\n",
      "34409/34409 [==============================] - 8s 231us/step - loss: 0.2563 - auroc: 0.9582\n",
      "Epoch 16/50\n",
      "34409/34409 [==============================] - 8s 232us/step - loss: 0.2498 - auroc: 0.9606\n",
      "Epoch 17/50\n",
      "34409/34409 [==============================] - 8s 234us/step - loss: 0.2408 - auroc: 0.9625\n",
      "Epoch 18/50\n",
      "34409/34409 [==============================] - 8s 234us/step - loss: 0.2349 - auroc: 0.9650\n",
      "Epoch 19/50\n",
      "34409/34409 [==============================] - 8s 233us/step - loss: 0.2290 - auroc: 0.9666\n",
      "Epoch 20/50\n",
      "34409/34409 [==============================] - 8s 232us/step - loss: 0.2247 - auroc: 0.9679\n",
      "Epoch 21/50\n",
      "34409/34409 [==============================] - 6s 164us/step - loss: 0.2180 - auroc: 0.9699\n",
      "Epoch 22/50\n",
      "34409/34409 [==============================] - 6s 164us/step - loss: 0.2124 - auroc: 0.9716\n",
      "Epoch 23/50\n",
      "34409/34409 [==============================] - 8s 233us/step - loss: 0.2041 - auroc: 0.9734\n",
      "Epoch 24/50\n",
      "34409/34409 [==============================] - 9s 274us/step - loss: 0.2012 - auroc: 0.9741\n",
      "Epoch 25/50\n",
      "34409/34409 [==============================] - 8s 230us/step - loss: 0.1967 - auroc: 0.9753\n",
      "Epoch 26/50\n",
      "34409/34409 [==============================] - 8s 231us/step - loss: 0.1947 - auroc: 0.9761\n",
      "Epoch 27/50\n",
      "34409/34409 [==============================] - 8s 235us/step - loss: 0.1928 - auroc: 0.9767\n",
      "Epoch 28/50\n",
      "34409/34409 [==============================] - 8s 233us/step - loss: 0.1874 - auroc: 0.9777\n",
      "Epoch 29/50\n",
      "34409/34409 [==============================] - 8s 232us/step - loss: 0.1834 - auroc: 0.9785\n",
      "Epoch 30/50\n",
      "34409/34409 [==============================] - 8s 241us/step - loss: 0.1803 - auroc: 0.9798\n",
      "Epoch 31/50\n",
      "34409/34409 [==============================] - 8s 234us/step - loss: 0.1788 - auroc: 0.9799\n",
      "Epoch 32/50\n",
      "34409/34409 [==============================] - 8s 229us/step - loss: 0.1729 - auroc: 0.9813\n",
      "Epoch 33/50\n",
      "34409/34409 [==============================] - 8s 236us/step - loss: 0.1731 - auroc: 0.9811\n",
      "Epoch 34/50\n",
      "34409/34409 [==============================] - 8s 232us/step - loss: 0.1691 - auroc: 0.9821\n",
      "Epoch 35/50\n",
      "34409/34409 [==============================] - 8s 229us/step - loss: 0.1688 - auroc: 0.9819\n",
      "Epoch 36/50\n",
      "34409/34409 [==============================] - 8s 232us/step - loss: 0.1672 - auroc: 0.9829\n",
      "Epoch 37/50\n",
      "34409/34409 [==============================] - 8s 232us/step - loss: 0.1617 - auroc: 0.9835\n",
      "Epoch 38/50\n",
      "34409/34409 [==============================] - 8s 238us/step - loss: 0.1614 - auroc: 0.9836\n",
      "Epoch 39/50\n",
      "34409/34409 [==============================] - 6s 165us/step - loss: 0.1591 - auroc: 0.9843\n",
      "Epoch 40/50\n",
      "34409/34409 [==============================] - 8s 234us/step - loss: 0.1578 - auroc: 0.9845\n",
      "Epoch 41/50\n",
      "34409/34409 [==============================] - 8s 240us/step - loss: 0.1546 - auroc: 0.9848\n",
      "Epoch 42/50\n",
      "34409/34409 [==============================] - 6s 165us/step - loss: 0.1531 - auroc: 0.9859\n",
      "Epoch 43/50\n",
      "34409/34409 [==============================] - 6s 164us/step - loss: 0.1512 - auroc: 0.9856\n",
      "Epoch 44/50\n",
      "34409/34409 [==============================] - 8s 232us/step - loss: 0.1500 - auroc: 0.9856\n",
      "Epoch 45/50\n",
      "34409/34409 [==============================] - 8s 235us/step - loss: 0.1508 - auroc: 0.9856\n",
      "Epoch 46/50\n",
      "34409/34409 [==============================] - 8s 234us/step - loss: 0.1430 - auroc: 0.9873\n",
      "Epoch 47/50\n",
      "34409/34409 [==============================] - 9s 274us/step - loss: 0.1449 - auroc: 0.9868\n",
      "Epoch 48/50\n",
      "34409/34409 [==============================] - 8s 231us/step - loss: 0.1432 - auroc: 0.9875\n",
      "Epoch 49/50\n",
      "34409/34409 [==============================] - 6s 165us/step - loss: 0.1435 - auroc: 0.9873\n",
      "Epoch 50/50\n",
      "34409/34409 [==============================] - 6s 168us/step - loss: 0.1441 - auroc: 0.9868\n"
     ]
    },
    {
     "data": {
      "text/plain": [
       "<keras.callbacks.History at 0x7fd8195ce9b0>"
      ]
     },
     "execution_count": 326,
     "metadata": {},
     "output_type": "execute_result"
    }
   ],
   "source": [
    "# with PCA pipeline\n",
    "model_pca = classifier(input_dim=input_dim_pca)\n",
    "model_pca.fit(preprocess_pca.fit_transform(X_train),\\\n",
    "              pd.get_dummies(y_train), epochs=50)"
   ]
  },
  {
   "cell_type": "code",
   "execution_count": 327,
   "metadata": {},
   "outputs": [],
   "source": [
    "# save models\n",
    "model_no_pca.save('models/model_no_pca.h5')\n",
    "model_pca.save('models/model_pca.h5')"
   ]
  },
  {
   "cell_type": "markdown",
   "metadata": {},
   "source": [
    "## Validation"
   ]
  },
  {
   "cell_type": "markdown",
   "metadata": {},
   "source": [
    "### No PCA"
   ]
  },
  {
   "cell_type": "code",
   "execution_count": 400,
   "metadata": {},
   "outputs": [],
   "source": [
    "y_pred_proba = model_no_pca.predict(preprocess_no_pca.transform(X_valid))\n",
    "y_pred_proba = pd.DataFrame(y_pred_proba).loc[:, 1]"
   ]
  },
  {
   "cell_type": "code",
   "execution_count": 401,
   "metadata": {},
   "outputs": [
    {
     "data": {
      "text/plain": [
       "[<matplotlib.lines.Line2D at 0x7fd817fdc5c0>]"
      ]
     },
     "execution_count": 401,
     "metadata": {},
     "output_type": "execute_result"
    },
    {
     "data": {
      "image/png": "[encoded data removed]",
      "text/plain": [
       "<Figure size 432x288 with 1 Axes>"
      ]
     },
     "metadata": {},
     "output_type": "display_data"
    }
   ],
   "source": [
    "# get best threshold value that maximizes F1 score\n",
    "\n",
    "f1_scores = []\n",
    "thresholds = np.arange(0.1, 1., 0.05)\n",
    "\n",
    "for thresh in thresholds:\n",
    "    y_pred_temp = y_pred_proba.apply(lambda x: 1 if x > thresh else 0)\n",
    "    f1score = f1_score(y_true, y_pred_temp)\n",
    "    f1_scores.append(f1score)\n",
    "    \n",
    "plt.plot(thresholds, f1_scores)    \n",
    "    "
   ]
  },
  {
   "cell_type": "code",
   "execution_count": 402,
   "metadata": {},
   "outputs": [
    {
     "data": {
      "text/plain": [
       "0.9500000000000003"
      ]
     },
     "execution_count": 402,
     "metadata": {},
     "output_type": "execute_result"
    }
   ],
   "source": [
    "# best thresh\n",
    "ind = np.argsort(f1_scores)[-1]\n",
    "best_thresh = thresholds[ind]\n",
    "best_thresh"
   ]
  },
  {
   "cell_type": "code",
   "execution_count": 403,
   "metadata": {},
   "outputs": [],
   "source": [
    "# y_pred = y_pred_proba.apply(lambda x: 1 if x > best_thresh else 0)\n",
    "y_pred = y_pred_proba.apply(lambda x: 1 if x > 0.5 else 0)"
   ]
  },
  {
   "cell_type": "code",
   "execution_count": 404,
   "metadata": {},
   "outputs": [
    {
     "name": "stdout",
     "output_type": "stream",
     "text": [
      "Summary Stats\n",
      "Precision = 0.21454788121454788\n",
      "Recall = 0.914651493598862\n",
      "F1 Score = 0.3475675675675675\n"
     ]
    }
   ],
   "source": [
    "precision = precision_score(y_true, y_pred)\n",
    "recall = recall_score(y_true, y_pred)\n",
    "f1Score = f1_score(y_true, y_pred)\n",
    "\n",
    "      \n",
    "print(\"Summary Stats\")\n",
    "print(\"Precision = %s\" % precision)\n",
    "print(\"Recall = %s\" % recall)\n",
    "print(\"F1 Score = %s\" % f1Score)"
   ]
  },
  {
   "cell_type": "code",
   "execution_count": 405,
   "metadata": {},
   "outputs": [
    {
     "data": {
      "text/plain": [
       "<matplotlib.axes._subplots.AxesSubplot at 0x7fd817d195f8>"
      ]
     },
     "execution_count": 405,
     "metadata": {},
     "output_type": "execute_result"
    },
    {
     "data": {
      "image/png": "[encoded data removed]",
      "text/plain": [
       "<Figure size 432x288 with 2 Axes>"
      ]
     },
     "metadata": {},
     "output_type": "display_data"
    }
   ],
   "source": [
    "np.set_printoptions(precision=2)\n",
    "class_names = ['not Fraud', 'Fraud']\n",
    "plot_confusion_matrix(y_true, y_pred, classes=class_names, Norm=False,\n",
    "                      title='Normalized confusion matrix')"
   ]
  },
  {
   "cell_type": "code",
   "execution_count": 406,
   "metadata": {},
   "outputs": [
    {
     "data": {
      "text/plain": [
       "<matplotlib.axes._subplots.AxesSubplot at 0x7fd817c56d30>"
      ]
     },
     "execution_count": 406,
     "metadata": {},
     "output_type": "execute_result"
    },
    {
     "data": {
      "image/png": "[encoded data removed]",
      "text/plain": [
       "<Figure size 432x288 with 2 Axes>"
      ]
     },
     "metadata": {},
     "output_type": "display_data"
    }
   ],
   "source": [
    "np.set_printoptions(precision=2)\n",
    "class_names = ['not Fraud', 'Fraud']\n",
    "plot_confusion_matrix(y_true, y_pred, classes=class_names, Norm=True,\n",
    "                      title='Normalized confusion matrix')"
   ]
  },
  {
   "cell_type": "code",
   "execution_count": 407,
   "metadata": {},
   "outputs": [],
   "source": [
    "fpr, tpr, _ = roc_curve(y_true, y_pred_proba)"
   ]
  },
  {
   "cell_type": "code",
   "execution_count": 408,
   "metadata": {},
   "outputs": [
    {
     "data": {
      "text/plain": [
       "[<matplotlib.lines.Line2D at 0x7fd817f94b38>]"
      ]
     },
     "execution_count": 408,
     "metadata": {},
     "output_type": "execute_result"
    },
    {
     "data": {
      "image/png": "[encoded data removed]",
      "text/plain": [
       "<Figure size 432x288 with 1 Axes>"
      ]
     },
     "metadata": {},
     "output_type": "display_data"
    }
   ],
   "source": [
    "plt.plot(fpr, tpr)"
   ]
  },
  {
   "cell_type": "code",
   "execution_count": 409,
   "metadata": {},
   "outputs": [
    {
     "data": {
      "text/plain": [
       "0.9610817053191061"
      ]
     },
     "execution_count": 409,
     "metadata": {},
     "output_type": "execute_result"
    }
   ],
   "source": [
    "auc(fpr, tpr)"
   ]
  },
  {
   "cell_type": "markdown",
   "metadata": {},
   "source": [
    "#### Test Prediction"
   ]
  },
  {
   "cell_type": "code",
   "execution_count": 340,
   "metadata": {},
   "outputs": [],
   "source": [
    "y_pred_proba = model_no_pca.predict(preprocess_no_pca.transform(X_test))\n",
    "y_pred_proba = pd.DataFrame(y_pred_proba).loc[:, 1]"
   ]
  },
  {
   "cell_type": "code",
   "execution_count": 341,
   "metadata": {},
   "outputs": [],
   "source": [
    "df_preds = pd.DataFrame(df_test.TransactionID)\n",
    "df_preds = pd.concat([df_preds, y_pred_proba], axis=1)"
   ]
  },
  {
   "cell_type": "code",
   "execution_count": 342,
   "metadata": {},
   "outputs": [
    {
     "data": {
      "text/plain": [
       "(506691, 2)"
      ]
     },
     "execution_count": 342,
     "metadata": {},
     "output_type": "execute_result"
    }
   ],
   "source": [
    "df_preds.columns = ['TransactionID', 'isFraud']\n",
    "df_preds.TransactionID = df_preds.TransactionID.astype('int') \n",
    "df_preds.shape"
   ]
  },
  {
   "cell_type": "code",
   "execution_count": 343,
   "metadata": {},
   "outputs": [
    {
     "data": {
      "text/html": [
       "<div>\n",
       "<style scoped>\n",
       "    .dataframe tbody tr th:only-of-type {\n",
       "        vertical-align: middle;\n",
       "    }\n",
       "\n",
       "    .dataframe tbody tr th {\n",
       "        vertical-align: top;\n",
       "    }\n",
       "\n",
       "    .dataframe thead th {\n",
       "        text-align: right;\n",
       "    }\n",
       "</style>\n",
       "<table border=\"1\" class=\"dataframe\">\n",
       "  <thead>\n",
       "    <tr style=\"text-align: right;\">\n",
       "      <th></th>\n",
       "      <th>TransactionID</th>\n",
       "      <th>isFraud</th>\n",
       "    </tr>\n",
       "  </thead>\n",
       "  <tbody>\n",
       "    <tr>\n",
       "      <th>0</th>\n",
       "      <td>3664355</td>\n",
       "      <td>0.000042</td>\n",
       "    </tr>\n",
       "    <tr>\n",
       "      <th>1</th>\n",
       "      <td>3664418</td>\n",
       "      <td>0.000705</td>\n",
       "    </tr>\n",
       "    <tr>\n",
       "      <th>2</th>\n",
       "      <td>3664423</td>\n",
       "      <td>0.190787</td>\n",
       "    </tr>\n",
       "    <tr>\n",
       "      <th>3</th>\n",
       "      <td>3664469</td>\n",
       "      <td>0.041309</td>\n",
       "    </tr>\n",
       "    <tr>\n",
       "      <th>4</th>\n",
       "      <td>3665115</td>\n",
       "      <td>0.115690</td>\n",
       "    </tr>\n",
       "  </tbody>\n",
       "</table>\n",
       "</div>"
      ],
      "text/plain": [
       "   TransactionID   isFraud\n",
       "0        3664355  0.000042\n",
       "1        3664418  0.000705\n",
       "2        3664423  0.190787\n",
       "3        3664469  0.041309\n",
       "4        3665115  0.115690"
      ]
     },
     "execution_count": 343,
     "metadata": {},
     "output_type": "execute_result"
    }
   ],
   "source": [
    "df_preds.head()"
   ]
  },
  {
   "cell_type": "code",
   "execution_count": 344,
   "metadata": {},
   "outputs": [],
   "source": [
    "df_preds.to_csv('predicted_no_pca_dl.csv', index=False)"
   ]
  },
  {
   "cell_type": "markdown",
   "metadata": {},
   "source": [
    "### With PCA"
   ]
  },
  {
   "cell_type": "code",
   "execution_count": 410,
   "metadata": {},
   "outputs": [],
   "source": [
    "y_pred_proba = model_pca.predict(preprocess_pca.transform(X_valid))\n",
    "y_pred_proba = pd.DataFrame(y_pred_proba).loc[:, 1]"
   ]
  },
  {
   "cell_type": "code",
   "execution_count": 411,
   "metadata": {},
   "outputs": [
    {
     "data": {
      "text/plain": [
       "[<matplotlib.lines.Line2D at 0x7fd817fbb240>]"
      ]
     },
     "execution_count": 411,
     "metadata": {},
     "output_type": "execute_result"
    },
    {
     "data": {
      "image/png": "[encoded data removed]",
      "text/plain": [
       "<Figure size 432x288 with 1 Axes>"
      ]
     },
     "metadata": {},
     "output_type": "display_data"
    }
   ],
   "source": [
    "# get best threshold value that maximizes F1 score\n",
    "\n",
    "f1_scores = []\n",
    "thresholds = np.arange(0.1, 1., 0.05)\n",
    "\n",
    "for thresh in thresholds:\n",
    "    y_pred_temp = y_pred_proba.apply(lambda x: 1 if x > thresh else 0)\n",
    "    f1score = f1_score(y_true, y_pred_temp)\n",
    "    f1_scores.append(f1score)\n",
    "    \n",
    "plt.plot(thresholds, f1_scores)    \n",
    "    "
   ]
  },
  {
   "cell_type": "code",
   "execution_count": 412,
   "metadata": {},
   "outputs": [
    {
     "data": {
      "text/plain": [
       "0.9500000000000003"
      ]
     },
     "execution_count": 412,
     "metadata": {},
     "output_type": "execute_result"
    }
   ],
   "source": [
    "# best thresh\n",
    "ind = np.argsort(f1_scores)[-1]\n",
    "best_thresh = thresholds[ind]\n",
    "best_thresh"
   ]
  },
  {
   "cell_type": "code",
   "execution_count": 413,
   "metadata": {},
   "outputs": [],
   "source": [
    "# y_pred = y_pred_proba.apply(lambda x: 1 if x > best_thresh else 0)\n",
    "y_pred = y_pred_proba.apply(lambda x: 1 if x > 0.5 else 0)"
   ]
  },
  {
   "cell_type": "code",
   "execution_count": 414,
   "metadata": {},
   "outputs": [
    {
     "name": "stdout",
     "output_type": "stream",
     "text": [
      "Summary Stats\n",
      "Precision = 0.19323527955232012\n",
      "Recall = 0.9250829777145566\n",
      "F1 Score = 0.31969194215722424\n"
     ]
    }
   ],
   "source": [
    "precision = precision_score(y_true, y_pred)\n",
    "recall = recall_score(y_true, y_pred)\n",
    "f1Score = f1_score(y_true, y_pred)\n",
    "\n",
    "      \n",
    "print(\"Summary Stats\")\n",
    "print(\"Precision = %s\" % precision)\n",
    "print(\"Recall = %s\" % recall)\n",
    "print(\"F1 Score = %s\" % f1Score)"
   ]
  },
  {
   "cell_type": "code",
   "execution_count": 415,
   "metadata": {},
   "outputs": [
    {
     "data": {
      "text/plain": [
       "<matplotlib.axes._subplots.AxesSubplot at 0x7fd817f0a048>"
      ]
     },
     "execution_count": 415,
     "metadata": {},
     "output_type": "execute_result"
    },
    {
     "data": {
      "image/png": "[encoded data removed]",
      "text/plain": [
       "<Figure size 432x288 with 2 Axes>"
      ]
     },
     "metadata": {},
     "output_type": "display_data"
    }
   ],
   "source": [
    "np.set_printoptions(precision=2)\n",
    "class_names = ['not Fraud', 'Fraud']\n",
    "plot_confusion_matrix(y_true, y_pred, classes=class_names, Norm=False,\n",
    "                      title='Normalized confusion matrix')"
   ]
  },
  {
   "cell_type": "code",
   "execution_count": 416,
   "metadata": {},
   "outputs": [
    {
     "data": {
      "text/plain": [
       "<matplotlib.axes._subplots.AxesSubplot at 0x7fd817a955c0>"
      ]
     },
     "execution_count": 416,
     "metadata": {},
     "output_type": "execute_result"
    },
    {
     "data": {
      "image/png": "[encoded data removed]",
      "text/plain": [
       "<Figure size 432x288 with 2 Axes>"
      ]
     },
     "metadata": {},
     "output_type": "display_data"
    }
   ],
   "source": [
    "np.set_printoptions(precision=2)\n",
    "class_names = ['not Fraud', 'Fraud']\n",
    "plot_confusion_matrix(y_true, y_pred, classes=class_names, Norm=True,\n",
    "                      title='Normalized confusion matrix')"
   ]
  },
  {
   "cell_type": "code",
   "execution_count": 417,
   "metadata": {},
   "outputs": [],
   "source": [
    "fpr, tpr, _ = roc_curve(y_true, y_pred_proba)"
   ]
  },
  {
   "cell_type": "code",
   "execution_count": 418,
   "metadata": {},
   "outputs": [
    {
     "data": {
      "text/plain": [
       "[<matplotlib.lines.Line2D at 0x7fd817ddd198>]"
      ]
     },
     "execution_count": 418,
     "metadata": {},
     "output_type": "execute_result"
    },
    {
     "data": {
      "image/png": "[encoded data removed]",
      "text/plain": [
       "<Figure size 432x288 with 1 Axes>"
      ]
     },
     "metadata": {},
     "output_type": "display_data"
    }
   ],
   "source": [
    "plt.plot(fpr, tpr)"
   ]
  },
  {
   "cell_type": "code",
   "execution_count": 419,
   "metadata": {},
   "outputs": [
    {
     "data": {
      "text/plain": [
       "0.9570707905714139"
      ]
     },
     "execution_count": 419,
     "metadata": {},
     "output_type": "execute_result"
    }
   ],
   "source": [
    "auc(fpr, tpr)"
   ]
  },
  {
   "cell_type": "markdown",
   "metadata": {},
   "source": [
    "#### Test Prediction"
   ]
  },
  {
   "cell_type": "code",
   "execution_count": 355,
   "metadata": {},
   "outputs": [],
   "source": [
    "y_pred_proba = model_pca.predict(preprocess_pca.transform(X_test))\n",
    "y_pred_proba = pd.DataFrame(y_pred_proba).loc[:, 1]"
   ]
  },
  {
   "cell_type": "code",
   "execution_count": 356,
   "metadata": {},
   "outputs": [],
   "source": [
    "df_preds = pd.DataFrame(df_test.TransactionID)\n",
    "df_preds = pd.concat([df_preds, y_pred_proba], axis=1)"
   ]
  },
  {
   "cell_type": "code",
   "execution_count": 357,
   "metadata": {},
   "outputs": [
    {
     "data": {
      "text/plain": [
       "(506691, 2)"
      ]
     },
     "execution_count": 357,
     "metadata": {},
     "output_type": "execute_result"
    }
   ],
   "source": [
    "df_preds.columns = ['TransactionID', 'isFraud']\n",
    "df_preds.TransactionID = df_preds.TransactionID.astype('int') \n",
    "df_preds.shape"
   ]
  },
  {
   "cell_type": "code",
   "execution_count": 358,
   "metadata": {},
   "outputs": [
    {
     "data": {
      "text/html": [
       "<div>\n",
       "<style scoped>\n",
       "    .dataframe tbody tr th:only-of-type {\n",
       "        vertical-align: middle;\n",
       "    }\n",
       "\n",
       "    .dataframe tbody tr th {\n",
       "        vertical-align: top;\n",
       "    }\n",
       "\n",
       "    .dataframe thead th {\n",
       "        text-align: right;\n",
       "    }\n",
       "</style>\n",
       "<table border=\"1\" class=\"dataframe\">\n",
       "  <thead>\n",
       "    <tr style=\"text-align: right;\">\n",
       "      <th></th>\n",
       "      <th>TransactionID</th>\n",
       "      <th>isFraud</th>\n",
       "    </tr>\n",
       "  </thead>\n",
       "  <tbody>\n",
       "    <tr>\n",
       "      <th>0</th>\n",
       "      <td>3664355</td>\n",
       "      <td>0.002851</td>\n",
       "    </tr>\n",
       "    <tr>\n",
       "      <th>1</th>\n",
       "      <td>3664418</td>\n",
       "      <td>0.000064</td>\n",
       "    </tr>\n",
       "    <tr>\n",
       "      <th>2</th>\n",
       "      <td>3664423</td>\n",
       "      <td>0.021852</td>\n",
       "    </tr>\n",
       "    <tr>\n",
       "      <th>3</th>\n",
       "      <td>3664469</td>\n",
       "      <td>0.004446</td>\n",
       "    </tr>\n",
       "    <tr>\n",
       "      <th>4</th>\n",
       "      <td>3665115</td>\n",
       "      <td>0.001305</td>\n",
       "    </tr>\n",
       "  </tbody>\n",
       "</table>\n",
       "</div>"
      ],
      "text/plain": [
       "   TransactionID   isFraud\n",
       "0        3664355  0.002851\n",
       "1        3664418  0.000064\n",
       "2        3664423  0.021852\n",
       "3        3664469  0.004446\n",
       "4        3665115  0.001305"
      ]
     },
     "execution_count": 358,
     "metadata": {},
     "output_type": "execute_result"
    }
   ],
   "source": [
    "df_preds.head()"
   ]
  },
  {
   "cell_type": "code",
   "execution_count": 359,
   "metadata": {},
   "outputs": [],
   "source": [
    "df_preds.to_csv('predicted_pca_dl.csv', index=False)"
   ]
  },
  {
   "cell_type": "code",
   "execution_count": null,
   "metadata": {},
   "outputs": [],
   "source": []
  }
 ],
 "metadata": {
  "hide_input": false,
  "kernelspec": {
   "display_name": "Python [default]",
   "language": "python",
   "name": "python3"
  },
  "language_info": {
   "codemirror_mode": {
    "name": "ipython",
    "version": 3
   },
   "file_extension": ".py",
   "mimetype": "text/x-python",
   "name": "python",
   "nbconvert_exporter": "python",
   "pygments_lexer": "ipython3",
   "version": "3.6.4"
  },
  "latex_envs": {
   "LaTeX_envs_menu_present": true,
   "autoclose": false,
   "autocomplete": true,
   "bibliofile": "biblio.bib",
   "cite_by": "apalike",
   "current_citInitial": 1,
   "eqLabelWithNumbers": true,
   "eqNumInitial": 1,
   "hotkeys": {
    "equation": "Ctrl-E",
    "itemize": "Ctrl-I"
   },
   "labels_anchors": false,
   "latex_user_defs": false,
   "report_style_numbering": false,
   "user_envs_cfg": false
  },
  "toc": {
   "base_numbering": 1,
   "nav_menu": {},
   "number_sections": true,
   "sideBar": true,
   "skip_h1_title": false,
   "title_cell": "Table of Contents",
   "title_sidebar": "Contents",
   "toc_cell": false,
   "toc_position": {},
   "toc_section_display": true,
   "toc_window_display": false
  }
 },
 "nbformat": 4,
 "nbformat_minor": 1
}
